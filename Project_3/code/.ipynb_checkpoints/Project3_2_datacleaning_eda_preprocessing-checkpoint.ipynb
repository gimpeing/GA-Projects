{
 "cells": [
  {
   "cell_type": "markdown",
   "metadata": {},
   "source": [
    "# Project 3: Web APIs & Classification\n",
    "### Notebook 2: Data Cleaning, EDA, Pre-processing"
   ]
  },
  {
   "cell_type": "code",
   "execution_count": 1,
   "metadata": {},
   "outputs": [
    {
     "name": "stderr",
     "output_type": "stream",
     "text": [
      "/opt/anaconda3/lib/python3.7/site-packages/statsmodels/tools/_testing.py:19: FutureWarning: pandas.util.testing is deprecated. Use the functions in the public API at pandas.testing instead.\n",
      "  import pandas.util.testing as tm\n"
     ]
    }
   ],
   "source": [
    "### import libraries\n",
    "import pandas as pd\n",
    "import numpy as np\n",
    "import seaborn as sns\n",
    "import matplotlib.pyplot as plt\n",
    "%matplotlib inline\n",
    "\n",
    "from bs4 import BeautifulSoup\n",
    "import re\n",
    "from nltk.corpus import stopwords\n",
    "from nltk.stem import WordNetLemmatizer \n",
    "from nltk.stem.porter import PorterStemmer\n",
    "\n",
    "from sklearn.pipeline import Pipeline\n",
    "from sklearn.model_selection import train_test_split, GridSearchCV\n",
    "from sklearn.linear_model import LogisticRegression\n",
    "from sklearn.feature_extraction.text import CountVectorizer, TfidfVectorizer\n",
    "\n",
    "#To visualize the whole grid\n",
    "pd.options.display.max_columns = 999"
   ]
  },
  {
   "cell_type": "markdown",
   "metadata": {},
   "source": [
    "## 4. Data Cleaning and EDA"
   ]
  },
  {
   "cell_type": "markdown",
   "metadata": {},
   "source": [
    "### 4.1 Reload the data collected from data scraping"
   ]
  },
  {
   "cell_type": "code",
   "execution_count": 2,
   "metadata": {},
   "outputs": [],
   "source": [
    "df_nosleep = pd.read_csv('../datasets/nosleep.csv')\n",
    "df_thetrueishere = pd.read_csv('../datasets/thetrueishere.csv')"
   ]
  },
  {
   "cell_type": "markdown",
   "metadata": {},
   "source": [
    "#### This is extra revisited step, where I would like to clean my newly scrap data \n",
    "I use it as unseen data to check how my model perform on them.\n",
    "\n",
    "***holdout data*** is the extra step I revisit this notebook to process the newly scrap data"
   ]
  },
  {
   "cell_type": "code",
   "execution_count": 3,
   "metadata": {},
   "outputs": [],
   "source": [
    "df_nosleep_holdout = pd.read_csv('../datasets/nosleepholdout.csv')\n",
    "df_thetrueishere_holdout = pd.read_csv('../datasets/thetrueishereholdout.csv')"
   ]
  },
  {
   "cell_type": "markdown",
   "metadata": {},
   "source": [
    "#### 4.1.1 Remove any duplicate post\n",
    "Though it was done during data scaping, there I would like to check if there is any duplicate post, that is any post with exactly the same `title`, if yes, remove them from the data. "
   ]
  },
  {
   "cell_type": "code",
   "execution_count": 4,
   "metadata": {},
   "outputs": [
    {
     "name": "stdout",
     "output_type": "stream",
     "text": [
      " shape: (834, 101)\n"
     ]
    },
    {
     "data": {
      "text/plain": [
       "834"
      ]
     },
     "execution_count": 4,
     "metadata": {},
     "output_type": "execute_result"
    }
   ],
   "source": [
    "# 'nosleep' subreddit has total of 834 rows and 834 of unique title, thus no duplicate post\n",
    "print(f' shape: {df_nosleep.shape}')\n",
    "df_nosleep['title'].nunique()"
   ]
  },
  {
   "cell_type": "code",
   "execution_count": 5,
   "metadata": {},
   "outputs": [
    {
     "name": "stdout",
     "output_type": "stream",
     "text": [
      " shape: (997, 103)\n"
     ]
    },
    {
     "data": {
      "text/plain": [
       "997"
      ]
     },
     "execution_count": 5,
     "metadata": {},
     "output_type": "execute_result"
    }
   ],
   "source": [
    "# 'thetrueishere' has total of 997 rows, and 997 of unique title, thus no duplicate post\n",
    "print(f' shape: {df_thetrueishere.shape}')\n",
    "df_thetrueishere['title'].nunique()"
   ]
  },
  {
   "cell_type": "code",
   "execution_count": 6,
   "metadata": {},
   "outputs": [
    {
     "name": "stdout",
     "output_type": "stream",
     "text": [
      " shape: (377, 101)\n"
     ]
    },
    {
     "data": {
      "text/plain": [
       "377"
      ]
     },
     "execution_count": 6,
     "metadata": {},
     "output_type": "execute_result"
    }
   ],
   "source": [
    "# 'nosleep' subreddit holdout set has total of 377 rows, and 377 of unique title, thus no duplicate\n",
    "print(f' shape: {df_nosleep_holdout.shape}')\n",
    "df_nosleep_holdout['title'].nunique()"
   ]
  },
  {
   "cell_type": "code",
   "execution_count": 7,
   "metadata": {},
   "outputs": [
    {
     "name": "stdout",
     "output_type": "stream",
     "text": [
      " shape: (375, 103)\n"
     ]
    },
    {
     "data": {
      "text/plain": [
       "372"
      ]
     },
     "execution_count": 7,
     "metadata": {},
     "output_type": "execute_result"
    }
   ],
   "source": [
    "# 'thetrueishere subreddit holdout set has total of 375 rows, but lesser unique titile, thus there is duplicate post\n",
    "print(f' shape: {df_thetrueishere_holdout.shape}')\n",
    "df_thetrueishere_holdout['title'].nunique()"
   ]
  },
  {
   "cell_type": "code",
   "execution_count": 8,
   "metadata": {},
   "outputs": [
    {
     "data": {
      "text/plain": [
       "(372, 103)"
      ]
     },
     "execution_count": 8,
     "metadata": {},
     "output_type": "execute_result"
    }
   ],
   "source": [
    "#drop duplicated post for 'df_thetrueishere_holdout subreddit. Keep the last duplicated post.\n",
    "df_thetrueishere_holdout.drop_duplicates(subset = 'title', keep = 'last', inplace = True)\n",
    "df_thetrueishere_holdout.shape"
   ]
  },
  {
   "cell_type": "markdown",
   "metadata": {},
   "source": [
    "### 4.2 Data Cleaning\n",
    "\n",
    "There are more than 100 features in each datasets (each subreddits). However, I only would like to pull out the post title and post content, which are column's `title` and `selftext`. Asides, The y target is `subreddit`. "
   ]
  },
  {
   "cell_type": "code",
   "execution_count": 9,
   "metadata": {},
   "outputs": [
    {
     "data": {
      "text/html": [
       "<div>\n",
       "<style scoped>\n",
       "    .dataframe tbody tr th:only-of-type {\n",
       "        vertical-align: middle;\n",
       "    }\n",
       "\n",
       "    .dataframe tbody tr th {\n",
       "        vertical-align: top;\n",
       "    }\n",
       "\n",
       "    .dataframe thead th {\n",
       "        text-align: right;\n",
       "    }\n",
       "</style>\n",
       "<table border=\"1\" class=\"dataframe\">\n",
       "  <thead>\n",
       "    <tr style=\"text-align: right;\">\n",
       "      <th></th>\n",
       "      <th>approved_at_utc</th>\n",
       "      <th>subreddit</th>\n",
       "      <th>selftext</th>\n",
       "      <th>author_fullname</th>\n",
       "      <th>saved</th>\n",
       "      <th>mod_reason_title</th>\n",
       "      <th>gilded</th>\n",
       "      <th>clicked</th>\n",
       "      <th>title</th>\n",
       "      <th>link_flair_richtext</th>\n",
       "      <th>subreddit_name_prefixed</th>\n",
       "      <th>hidden</th>\n",
       "      <th>pwls</th>\n",
       "      <th>link_flair_css_class</th>\n",
       "      <th>downs</th>\n",
       "      <th>hide_score</th>\n",
       "      <th>name</th>\n",
       "      <th>quarantine</th>\n",
       "      <th>link_flair_text_color</th>\n",
       "      <th>author_flair_background_color</th>\n",
       "      <th>subreddit_type</th>\n",
       "      <th>ups</th>\n",
       "      <th>total_awards_received</th>\n",
       "      <th>media_embed</th>\n",
       "      <th>author_flair_template_id</th>\n",
       "      <th>is_original_content</th>\n",
       "      <th>user_reports</th>\n",
       "      <th>secure_media</th>\n",
       "      <th>is_reddit_media_domain</th>\n",
       "      <th>is_meta</th>\n",
       "      <th>category</th>\n",
       "      <th>secure_media_embed</th>\n",
       "      <th>link_flair_text</th>\n",
       "      <th>can_mod_post</th>\n",
       "      <th>score</th>\n",
       "      <th>approved_by</th>\n",
       "      <th>author_premium</th>\n",
       "      <th>thumbnail</th>\n",
       "      <th>edited</th>\n",
       "      <th>author_flair_css_class</th>\n",
       "      <th>author_flair_richtext</th>\n",
       "      <th>gildings</th>\n",
       "      <th>content_categories</th>\n",
       "      <th>is_self</th>\n",
       "      <th>mod_note</th>\n",
       "      <th>created</th>\n",
       "      <th>link_flair_type</th>\n",
       "      <th>wls</th>\n",
       "      <th>removed_by_category</th>\n",
       "      <th>banned_by</th>\n",
       "      <th>author_flair_type</th>\n",
       "      <th>domain</th>\n",
       "      <th>allow_live_comments</th>\n",
       "      <th>selftext_html</th>\n",
       "      <th>likes</th>\n",
       "      <th>suggested_sort</th>\n",
       "      <th>banned_at_utc</th>\n",
       "      <th>view_count</th>\n",
       "      <th>archived</th>\n",
       "      <th>no_follow</th>\n",
       "      <th>is_crosspostable</th>\n",
       "      <th>pinned</th>\n",
       "      <th>over_18</th>\n",
       "      <th>all_awardings</th>\n",
       "      <th>awarders</th>\n",
       "      <th>media_only</th>\n",
       "      <th>can_gild</th>\n",
       "      <th>spoiler</th>\n",
       "      <th>locked</th>\n",
       "      <th>author_flair_text</th>\n",
       "      <th>visited</th>\n",
       "      <th>removed_by</th>\n",
       "      <th>num_reports</th>\n",
       "      <th>distinguished</th>\n",
       "      <th>subreddit_id</th>\n",
       "      <th>mod_reason_by</th>\n",
       "      <th>removal_reason</th>\n",
       "      <th>link_flair_background_color</th>\n",
       "      <th>id</th>\n",
       "      <th>is_robot_indexable</th>\n",
       "      <th>report_reasons</th>\n",
       "      <th>author</th>\n",
       "      <th>discussion_type</th>\n",
       "      <th>num_comments</th>\n",
       "      <th>send_replies</th>\n",
       "      <th>whitelist_status</th>\n",
       "      <th>contest_mode</th>\n",
       "      <th>mod_reports</th>\n",
       "      <th>author_patreon_flair</th>\n",
       "      <th>author_flair_text_color</th>\n",
       "      <th>permalink</th>\n",
       "      <th>parent_whitelist_status</th>\n",
       "      <th>stickied</th>\n",
       "      <th>url</th>\n",
       "      <th>subreddit_subscribers</th>\n",
       "      <th>created_utc</th>\n",
       "      <th>num_crossposts</th>\n",
       "      <th>media</th>\n",
       "      <th>is_video</th>\n",
       "      <th>link_flair_template_id</th>\n",
       "      <th>author_cakeday</th>\n",
       "    </tr>\n",
       "  </thead>\n",
       "  <tbody>\n",
       "    <tr>\n",
       "      <th>0</th>\n",
       "      <td>NaN</td>\n",
       "      <td>nosleep</td>\n",
       "      <td>NaN</td>\n",
       "      <td>t2_c446v4f</td>\n",
       "      <td>False</td>\n",
       "      <td>NaN</td>\n",
       "      <td>0</td>\n",
       "      <td>False</td>\n",
       "      <td>February 2020 contest nominations</td>\n",
       "      <td>[]</td>\n",
       "      <td>r/nosleep</td>\n",
       "      <td>False</td>\n",
       "      <td>6</td>\n",
       "      <td>NaN</td>\n",
       "      <td>0</td>\n",
       "      <td>False</td>\n",
       "      <td>t3_fdub8s</td>\n",
       "      <td>False</td>\n",
       "      <td>dark</td>\n",
       "      <td>NaN</td>\n",
       "      <td>public</td>\n",
       "      <td>52</td>\n",
       "      <td>1</td>\n",
       "      <td>{}</td>\n",
       "      <td>NaN</td>\n",
       "      <td>False</td>\n",
       "      <td>[]</td>\n",
       "      <td>NaN</td>\n",
       "      <td>False</td>\n",
       "      <td>False</td>\n",
       "      <td>NaN</td>\n",
       "      <td>{}</td>\n",
       "      <td>NaN</td>\n",
       "      <td>False</td>\n",
       "      <td>52</td>\n",
       "      <td>NaN</td>\n",
       "      <td>False</td>\n",
       "      <td>NaN</td>\n",
       "      <td>False</td>\n",
       "      <td>NaN</td>\n",
       "      <td>[]</td>\n",
       "      <td>{}</td>\n",
       "      <td>['writing']</td>\n",
       "      <td>False</td>\n",
       "      <td>NaN</td>\n",
       "      <td>1.583439e+09</td>\n",
       "      <td>text</td>\n",
       "      <td>6</td>\n",
       "      <td>NaN</td>\n",
       "      <td>NaN</td>\n",
       "      <td>text</td>\n",
       "      <td>redd.it</td>\n",
       "      <td>False</td>\n",
       "      <td>NaN</td>\n",
       "      <td>NaN</td>\n",
       "      <td>NaN</td>\n",
       "      <td>NaN</td>\n",
       "      <td>NaN</td>\n",
       "      <td>False</td>\n",
       "      <td>False</td>\n",
       "      <td>False</td>\n",
       "      <td>False</td>\n",
       "      <td>False</td>\n",
       "      <td>[{'count': 1, 'is_enabled': True, 'subreddit_i...</td>\n",
       "      <td>[]</td>\n",
       "      <td>False</td>\n",
       "      <td>False</td>\n",
       "      <td>False</td>\n",
       "      <td>True</td>\n",
       "      <td>NaN</td>\n",
       "      <td>False</td>\n",
       "      <td>NaN</td>\n",
       "      <td>NaN</td>\n",
       "      <td>moderator</td>\n",
       "      <td>t5_2rm4d</td>\n",
       "      <td>NaN</td>\n",
       "      <td>NaN</td>\n",
       "      <td>NaN</td>\n",
       "      <td>fdub8s</td>\n",
       "      <td>True</td>\n",
       "      <td>NaN</td>\n",
       "      <td>TheCusterWolf</td>\n",
       "      <td>NaN</td>\n",
       "      <td>0</td>\n",
       "      <td>True</td>\n",
       "      <td>all_ads</td>\n",
       "      <td>False</td>\n",
       "      <td>[]</td>\n",
       "      <td>False</td>\n",
       "      <td>NaN</td>\n",
       "      <td>/r/nosleep/comments/fdub8s/february_2020_conte...</td>\n",
       "      <td>all_ads</td>\n",
       "      <td>True</td>\n",
       "      <td>https://redd.it/fduax3</td>\n",
       "      <td>13823253</td>\n",
       "      <td>1.583410e+09</td>\n",
       "      <td>0</td>\n",
       "      <td>NaN</td>\n",
       "      <td>False</td>\n",
       "      <td>NaN</td>\n",
       "      <td>NaN</td>\n",
       "    </tr>\n",
       "    <tr>\n",
       "      <th>1</th>\n",
       "      <td>NaN</td>\n",
       "      <td>nosleep</td>\n",
       "      <td>NaN</td>\n",
       "      <td>t2_m297o</td>\n",
       "      <td>False</td>\n",
       "      <td>NaN</td>\n",
       "      <td>0</td>\n",
       "      <td>False</td>\n",
       "      <td>January 2020 Winners!</td>\n",
       "      <td>[]</td>\n",
       "      <td>r/nosleep</td>\n",
       "      <td>False</td>\n",
       "      <td>6</td>\n",
       "      <td>NaN</td>\n",
       "      <td>0</td>\n",
       "      <td>False</td>\n",
       "      <td>t3_fecu80</td>\n",
       "      <td>False</td>\n",
       "      <td>dark</td>\n",
       "      <td>NaN</td>\n",
       "      <td>public</td>\n",
       "      <td>42</td>\n",
       "      <td>0</td>\n",
       "      <td>{}</td>\n",
       "      <td>NaN</td>\n",
       "      <td>False</td>\n",
       "      <td>[]</td>\n",
       "      <td>NaN</td>\n",
       "      <td>False</td>\n",
       "      <td>False</td>\n",
       "      <td>NaN</td>\n",
       "      <td>{}</td>\n",
       "      <td>NaN</td>\n",
       "      <td>False</td>\n",
       "      <td>42</td>\n",
       "      <td>NaN</td>\n",
       "      <td>False</td>\n",
       "      <td>NaN</td>\n",
       "      <td>False</td>\n",
       "      <td>NaN</td>\n",
       "      <td>[]</td>\n",
       "      <td>{}</td>\n",
       "      <td>['writing']</td>\n",
       "      <td>False</td>\n",
       "      <td>NaN</td>\n",
       "      <td>1.583527e+09</td>\n",
       "      <td>text</td>\n",
       "      <td>6</td>\n",
       "      <td>NaN</td>\n",
       "      <td>NaN</td>\n",
       "      <td>text</td>\n",
       "      <td>redd.it</td>\n",
       "      <td>False</td>\n",
       "      <td>NaN</td>\n",
       "      <td>NaN</td>\n",
       "      <td>NaN</td>\n",
       "      <td>NaN</td>\n",
       "      <td>NaN</td>\n",
       "      <td>False</td>\n",
       "      <td>False</td>\n",
       "      <td>False</td>\n",
       "      <td>False</td>\n",
       "      <td>False</td>\n",
       "      <td>[]</td>\n",
       "      <td>[]</td>\n",
       "      <td>False</td>\n",
       "      <td>False</td>\n",
       "      <td>False</td>\n",
       "      <td>True</td>\n",
       "      <td>NaN</td>\n",
       "      <td>False</td>\n",
       "      <td>NaN</td>\n",
       "      <td>NaN</td>\n",
       "      <td>moderator</td>\n",
       "      <td>t5_2rm4d</td>\n",
       "      <td>NaN</td>\n",
       "      <td>NaN</td>\n",
       "      <td>NaN</td>\n",
       "      <td>fecu80</td>\n",
       "      <td>True</td>\n",
       "      <td>NaN</td>\n",
       "      <td>poppy_moonray</td>\n",
       "      <td>NaN</td>\n",
       "      <td>0</td>\n",
       "      <td>True</td>\n",
       "      <td>all_ads</td>\n",
       "      <td>False</td>\n",
       "      <td>[]</td>\n",
       "      <td>False</td>\n",
       "      <td>NaN</td>\n",
       "      <td>/r/nosleep/comments/fecu80/january_2020_winners/</td>\n",
       "      <td>all_ads</td>\n",
       "      <td>True</td>\n",
       "      <td>https://redd.it/fectho</td>\n",
       "      <td>13823253</td>\n",
       "      <td>1.583498e+09</td>\n",
       "      <td>0</td>\n",
       "      <td>NaN</td>\n",
       "      <td>False</td>\n",
       "      <td>NaN</td>\n",
       "      <td>NaN</td>\n",
       "    </tr>\n",
       "    <tr>\n",
       "      <th>2</th>\n",
       "      <td>NaN</td>\n",
       "      <td>nosleep</td>\n",
       "      <td>A half-dozen police cars crowded the gravel dr...</td>\n",
       "      <td>t2_6fer5</td>\n",
       "      <td>False</td>\n",
       "      <td>NaN</td>\n",
       "      <td>1</td>\n",
       "      <td>False</td>\n",
       "      <td>There's Been a String of Suicides in my Town. ...</td>\n",
       "      <td>[]</td>\n",
       "      <td>r/nosleep</td>\n",
       "      <td>False</td>\n",
       "      <td>6</td>\n",
       "      <td>NaN</td>\n",
       "      <td>0</td>\n",
       "      <td>False</td>\n",
       "      <td>t3_fee8yr</td>\n",
       "      <td>False</td>\n",
       "      <td>dark</td>\n",
       "      <td>NaN</td>\n",
       "      <td>public</td>\n",
       "      <td>3801</td>\n",
       "      <td>6</td>\n",
       "      <td>{}</td>\n",
       "      <td>NaN</td>\n",
       "      <td>False</td>\n",
       "      <td>[]</td>\n",
       "      <td>NaN</td>\n",
       "      <td>False</td>\n",
       "      <td>False</td>\n",
       "      <td>NaN</td>\n",
       "      <td>{}</td>\n",
       "      <td>NaN</td>\n",
       "      <td>False</td>\n",
       "      <td>3801</td>\n",
       "      <td>NaN</td>\n",
       "      <td>True</td>\n",
       "      <td>NaN</td>\n",
       "      <td>1583514825.0</td>\n",
       "      <td>NaN</td>\n",
       "      <td>[]</td>\n",
       "      <td>{'gid_1': 2, 'gid_2': 1, 'gid_3': 1}</td>\n",
       "      <td>['writing']</td>\n",
       "      <td>True</td>\n",
       "      <td>NaN</td>\n",
       "      <td>1.583534e+09</td>\n",
       "      <td>text</td>\n",
       "      <td>6</td>\n",
       "      <td>NaN</td>\n",
       "      <td>NaN</td>\n",
       "      <td>text</td>\n",
       "      <td>self.nosleep</td>\n",
       "      <td>True</td>\n",
       "      <td>&amp;lt;!-- SC_OFF --&amp;gt;&amp;lt;div class=\"md\"&amp;gt;&amp;lt...</td>\n",
       "      <td>NaN</td>\n",
       "      <td>NaN</td>\n",
       "      <td>NaN</td>\n",
       "      <td>NaN</td>\n",
       "      <td>False</td>\n",
       "      <td>False</td>\n",
       "      <td>False</td>\n",
       "      <td>False</td>\n",
       "      <td>False</td>\n",
       "      <td>[{'count': 1, 'is_enabled': True, 'subreddit_i...</td>\n",
       "      <td>[]</td>\n",
       "      <td>False</td>\n",
       "      <td>False</td>\n",
       "      <td>False</td>\n",
       "      <td>False</td>\n",
       "      <td>NaN</td>\n",
       "      <td>False</td>\n",
       "      <td>NaN</td>\n",
       "      <td>NaN</td>\n",
       "      <td>NaN</td>\n",
       "      <td>t5_2rm4d</td>\n",
       "      <td>NaN</td>\n",
       "      <td>NaN</td>\n",
       "      <td>NaN</td>\n",
       "      <td>fee8yr</td>\n",
       "      <td>True</td>\n",
       "      <td>NaN</td>\n",
       "      <td>Worchester_St</td>\n",
       "      <td>NaN</td>\n",
       "      <td>74</td>\n",
       "      <td>True</td>\n",
       "      <td>all_ads</td>\n",
       "      <td>False</td>\n",
       "      <td>[]</td>\n",
       "      <td>False</td>\n",
       "      <td>NaN</td>\n",
       "      <td>/r/nosleep/comments/fee8yr/theres_been_a_strin...</td>\n",
       "      <td>all_ads</td>\n",
       "      <td>False</td>\n",
       "      <td>https://www.reddit.com/r/nosleep/comments/fee8...</td>\n",
       "      <td>13823253</td>\n",
       "      <td>1.583505e+09</td>\n",
       "      <td>0</td>\n",
       "      <td>NaN</td>\n",
       "      <td>False</td>\n",
       "      <td>NaN</td>\n",
       "      <td>NaN</td>\n",
       "    </tr>\n",
       "  </tbody>\n",
       "</table>\n",
       "</div>"
      ],
      "text/plain": [
       "   approved_at_utc subreddit  \\\n",
       "0              NaN   nosleep   \n",
       "1              NaN   nosleep   \n",
       "2              NaN   nosleep   \n",
       "\n",
       "                                            selftext author_fullname  saved  \\\n",
       "0                                                NaN      t2_c446v4f  False   \n",
       "1                                                NaN        t2_m297o  False   \n",
       "2  A half-dozen police cars crowded the gravel dr...        t2_6fer5  False   \n",
       "\n",
       "   mod_reason_title  gilded  clicked  \\\n",
       "0               NaN       0    False   \n",
       "1               NaN       0    False   \n",
       "2               NaN       1    False   \n",
       "\n",
       "                                               title link_flair_richtext  \\\n",
       "0                  February 2020 contest nominations                  []   \n",
       "1                              January 2020 Winners!                  []   \n",
       "2  There's Been a String of Suicides in my Town. ...                  []   \n",
       "\n",
       "  subreddit_name_prefixed  hidden  pwls link_flair_css_class  downs  \\\n",
       "0               r/nosleep   False     6                  NaN      0   \n",
       "1               r/nosleep   False     6                  NaN      0   \n",
       "2               r/nosleep   False     6                  NaN      0   \n",
       "\n",
       "   hide_score       name  quarantine link_flair_text_color  \\\n",
       "0       False  t3_fdub8s       False                  dark   \n",
       "1       False  t3_fecu80       False                  dark   \n",
       "2       False  t3_fee8yr       False                  dark   \n",
       "\n",
       "   author_flair_background_color subreddit_type   ups  total_awards_received  \\\n",
       "0                            NaN         public    52                      1   \n",
       "1                            NaN         public    42                      0   \n",
       "2                            NaN         public  3801                      6   \n",
       "\n",
       "  media_embed author_flair_template_id  is_original_content user_reports  \\\n",
       "0          {}                      NaN                False           []   \n",
       "1          {}                      NaN                False           []   \n",
       "2          {}                      NaN                False           []   \n",
       "\n",
       "   secure_media  is_reddit_media_domain  is_meta  category secure_media_embed  \\\n",
       "0           NaN                   False    False       NaN                 {}   \n",
       "1           NaN                   False    False       NaN                 {}   \n",
       "2           NaN                   False    False       NaN                 {}   \n",
       "\n",
       "  link_flair_text  can_mod_post  score  approved_by author_premium  thumbnail  \\\n",
       "0             NaN         False     52          NaN          False        NaN   \n",
       "1             NaN         False     42          NaN          False        NaN   \n",
       "2             NaN         False   3801          NaN           True        NaN   \n",
       "\n",
       "         edited author_flair_css_class author_flair_richtext  \\\n",
       "0         False                    NaN                    []   \n",
       "1         False                    NaN                    []   \n",
       "2  1583514825.0                    NaN                    []   \n",
       "\n",
       "                               gildings content_categories  is_self  mod_note  \\\n",
       "0                                    {}        ['writing']    False       NaN   \n",
       "1                                    {}        ['writing']    False       NaN   \n",
       "2  {'gid_1': 2, 'gid_2': 1, 'gid_3': 1}        ['writing']     True       NaN   \n",
       "\n",
       "        created link_flair_type  wls  removed_by_category  banned_by  \\\n",
       "0  1.583439e+09            text    6                  NaN        NaN   \n",
       "1  1.583527e+09            text    6                  NaN        NaN   \n",
       "2  1.583534e+09            text    6                  NaN        NaN   \n",
       "\n",
       "  author_flair_type        domain  allow_live_comments  \\\n",
       "0              text       redd.it                False   \n",
       "1              text       redd.it                False   \n",
       "2              text  self.nosleep                 True   \n",
       "\n",
       "                                       selftext_html  likes  suggested_sort  \\\n",
       "0                                                NaN    NaN             NaN   \n",
       "1                                                NaN    NaN             NaN   \n",
       "2  &lt;!-- SC_OFF --&gt;&lt;div class=\"md\"&gt;&lt...    NaN             NaN   \n",
       "\n",
       "   banned_at_utc  view_count  archived  no_follow  is_crosspostable  pinned  \\\n",
       "0            NaN         NaN     False      False             False   False   \n",
       "1            NaN         NaN     False      False             False   False   \n",
       "2            NaN         NaN     False      False             False   False   \n",
       "\n",
       "   over_18                                      all_awardings awarders  \\\n",
       "0    False  [{'count': 1, 'is_enabled': True, 'subreddit_i...       []   \n",
       "1    False                                                 []       []   \n",
       "2    False  [{'count': 1, 'is_enabled': True, 'subreddit_i...       []   \n",
       "\n",
       "   media_only  can_gild  spoiler  locked author_flair_text  visited  \\\n",
       "0       False     False    False    True               NaN    False   \n",
       "1       False     False    False    True               NaN    False   \n",
       "2       False     False    False   False               NaN    False   \n",
       "\n",
       "   removed_by  num_reports distinguished subreddit_id  mod_reason_by  \\\n",
       "0         NaN          NaN     moderator     t5_2rm4d            NaN   \n",
       "1         NaN          NaN     moderator     t5_2rm4d            NaN   \n",
       "2         NaN          NaN           NaN     t5_2rm4d            NaN   \n",
       "\n",
       "   removal_reason  link_flair_background_color      id  is_robot_indexable  \\\n",
       "0             NaN                          NaN  fdub8s                True   \n",
       "1             NaN                          NaN  fecu80                True   \n",
       "2             NaN                          NaN  fee8yr                True   \n",
       "\n",
       "   report_reasons         author  discussion_type  num_comments  send_replies  \\\n",
       "0             NaN  TheCusterWolf              NaN             0          True   \n",
       "1             NaN  poppy_moonray              NaN             0          True   \n",
       "2             NaN  Worchester_St              NaN            74          True   \n",
       "\n",
       "  whitelist_status  contest_mode mod_reports author_patreon_flair  \\\n",
       "0          all_ads         False          []                False   \n",
       "1          all_ads         False          []                False   \n",
       "2          all_ads         False          []                False   \n",
       "\n",
       "  author_flair_text_color                                          permalink  \\\n",
       "0                     NaN  /r/nosleep/comments/fdub8s/february_2020_conte...   \n",
       "1                     NaN   /r/nosleep/comments/fecu80/january_2020_winners/   \n",
       "2                     NaN  /r/nosleep/comments/fee8yr/theres_been_a_strin...   \n",
       "\n",
       "  parent_whitelist_status  stickied  \\\n",
       "0                 all_ads      True   \n",
       "1                 all_ads      True   \n",
       "2                 all_ads     False   \n",
       "\n",
       "                                                 url  subreddit_subscribers  \\\n",
       "0                             https://redd.it/fduax3               13823253   \n",
       "1                             https://redd.it/fectho               13823253   \n",
       "2  https://www.reddit.com/r/nosleep/comments/fee8...               13823253   \n",
       "\n",
       "    created_utc  num_crossposts  media  is_video link_flair_template_id  \\\n",
       "0  1.583410e+09               0    NaN     False                    NaN   \n",
       "1  1.583498e+09               0    NaN     False                    NaN   \n",
       "2  1.583505e+09               0    NaN     False                    NaN   \n",
       "\n",
       "  author_cakeday  \n",
       "0            NaN  \n",
       "1            NaN  \n",
       "2            NaN  "
      ]
     },
     "execution_count": 9,
     "metadata": {},
     "output_type": "execute_result"
    }
   ],
   "source": [
    "### Overview of the scraped datasets:\n",
    "### nosleep subreddits\n",
    "df_nosleep.head(3)"
   ]
  },
  {
   "cell_type": "code",
   "execution_count": 10,
   "metadata": {},
   "outputs": [
    {
     "data": {
      "text/html": [
       "<div>\n",
       "<style scoped>\n",
       "    .dataframe tbody tr th:only-of-type {\n",
       "        vertical-align: middle;\n",
       "    }\n",
       "\n",
       "    .dataframe tbody tr th {\n",
       "        vertical-align: top;\n",
       "    }\n",
       "\n",
       "    .dataframe thead th {\n",
       "        text-align: right;\n",
       "    }\n",
       "</style>\n",
       "<table border=\"1\" class=\"dataframe\">\n",
       "  <thead>\n",
       "    <tr style=\"text-align: right;\">\n",
       "      <th></th>\n",
       "      <th>approved_at_utc</th>\n",
       "      <th>subreddit</th>\n",
       "      <th>selftext</th>\n",
       "      <th>author_fullname</th>\n",
       "      <th>saved</th>\n",
       "      <th>mod_reason_title</th>\n",
       "      <th>gilded</th>\n",
       "      <th>clicked</th>\n",
       "      <th>title</th>\n",
       "      <th>link_flair_richtext</th>\n",
       "      <th>subreddit_name_prefixed</th>\n",
       "      <th>hidden</th>\n",
       "      <th>pwls</th>\n",
       "      <th>link_flair_css_class</th>\n",
       "      <th>downs</th>\n",
       "      <th>hide_score</th>\n",
       "      <th>name</th>\n",
       "      <th>quarantine</th>\n",
       "      <th>link_flair_text_color</th>\n",
       "      <th>author_flair_background_color</th>\n",
       "      <th>subreddit_type</th>\n",
       "      <th>ups</th>\n",
       "      <th>total_awards_received</th>\n",
       "      <th>media_embed</th>\n",
       "      <th>author_flair_template_id</th>\n",
       "      <th>is_original_content</th>\n",
       "      <th>user_reports</th>\n",
       "      <th>secure_media</th>\n",
       "      <th>is_reddit_media_domain</th>\n",
       "      <th>is_meta</th>\n",
       "      <th>category</th>\n",
       "      <th>secure_media_embed</th>\n",
       "      <th>link_flair_text</th>\n",
       "      <th>can_mod_post</th>\n",
       "      <th>score</th>\n",
       "      <th>approved_by</th>\n",
       "      <th>author_premium</th>\n",
       "      <th>thumbnail</th>\n",
       "      <th>edited</th>\n",
       "      <th>author_flair_css_class</th>\n",
       "      <th>author_flair_richtext</th>\n",
       "      <th>gildings</th>\n",
       "      <th>content_categories</th>\n",
       "      <th>is_self</th>\n",
       "      <th>mod_note</th>\n",
       "      <th>created</th>\n",
       "      <th>link_flair_type</th>\n",
       "      <th>wls</th>\n",
       "      <th>removed_by_category</th>\n",
       "      <th>banned_by</th>\n",
       "      <th>author_flair_type</th>\n",
       "      <th>domain</th>\n",
       "      <th>allow_live_comments</th>\n",
       "      <th>selftext_html</th>\n",
       "      <th>likes</th>\n",
       "      <th>suggested_sort</th>\n",
       "      <th>banned_at_utc</th>\n",
       "      <th>view_count</th>\n",
       "      <th>archived</th>\n",
       "      <th>no_follow</th>\n",
       "      <th>is_crosspostable</th>\n",
       "      <th>pinned</th>\n",
       "      <th>over_18</th>\n",
       "      <th>all_awardings</th>\n",
       "      <th>awarders</th>\n",
       "      <th>media_only</th>\n",
       "      <th>can_gild</th>\n",
       "      <th>spoiler</th>\n",
       "      <th>locked</th>\n",
       "      <th>author_flair_text</th>\n",
       "      <th>visited</th>\n",
       "      <th>removed_by</th>\n",
       "      <th>num_reports</th>\n",
       "      <th>distinguished</th>\n",
       "      <th>subreddit_id</th>\n",
       "      <th>mod_reason_by</th>\n",
       "      <th>removal_reason</th>\n",
       "      <th>link_flair_background_color</th>\n",
       "      <th>id</th>\n",
       "      <th>is_robot_indexable</th>\n",
       "      <th>report_reasons</th>\n",
       "      <th>author</th>\n",
       "      <th>discussion_type</th>\n",
       "      <th>num_comments</th>\n",
       "      <th>send_replies</th>\n",
       "      <th>whitelist_status</th>\n",
       "      <th>contest_mode</th>\n",
       "      <th>mod_reports</th>\n",
       "      <th>author_patreon_flair</th>\n",
       "      <th>author_flair_text_color</th>\n",
       "      <th>permalink</th>\n",
       "      <th>parent_whitelist_status</th>\n",
       "      <th>stickied</th>\n",
       "      <th>url</th>\n",
       "      <th>subreddit_subscribers</th>\n",
       "      <th>created_utc</th>\n",
       "      <th>num_crossposts</th>\n",
       "      <th>media</th>\n",
       "      <th>is_video</th>\n",
       "      <th>link_flair_template_id</th>\n",
       "      <th>crosspost_parent_list</th>\n",
       "      <th>crosspost_parent</th>\n",
       "      <th>author_cakeday</th>\n",
       "    </tr>\n",
       "  </thead>\n",
       "  <tbody>\n",
       "    <tr>\n",
       "      <th>0</th>\n",
       "      <td>NaN</td>\n",
       "      <td>Thetruthishere</td>\n",
       "      <td>I am sharing this wherever I think would make...</td>\n",
       "      <td>t2_4qqdrtqg</td>\n",
       "      <td>False</td>\n",
       "      <td>NaN</td>\n",
       "      <td>0</td>\n",
       "      <td>False</td>\n",
       "      <td>Demonic sounds</td>\n",
       "      <td>[]</td>\n",
       "      <td>r/Thetruthishere</td>\n",
       "      <td>False</td>\n",
       "      <td>6</td>\n",
       "      <td>NaN</td>\n",
       "      <td>0</td>\n",
       "      <td>False</td>\n",
       "      <td>t3_fefpwi</td>\n",
       "      <td>False</td>\n",
       "      <td>dark</td>\n",
       "      <td>NaN</td>\n",
       "      <td>public</td>\n",
       "      <td>142</td>\n",
       "      <td>0</td>\n",
       "      <td>{}</td>\n",
       "      <td>NaN</td>\n",
       "      <td>False</td>\n",
       "      <td>[]</td>\n",
       "      <td>NaN</td>\n",
       "      <td>False</td>\n",
       "      <td>False</td>\n",
       "      <td>NaN</td>\n",
       "      <td>{}</td>\n",
       "      <td>NaN</td>\n",
       "      <td>False</td>\n",
       "      <td>142</td>\n",
       "      <td>NaN</td>\n",
       "      <td>False</td>\n",
       "      <td>NaN</td>\n",
       "      <td>False</td>\n",
       "      <td>NaN</td>\n",
       "      <td>[]</td>\n",
       "      <td>{}</td>\n",
       "      <td>NaN</td>\n",
       "      <td>True</td>\n",
       "      <td>NaN</td>\n",
       "      <td>1.583540e+09</td>\n",
       "      <td>text</td>\n",
       "      <td>6</td>\n",
       "      <td>NaN</td>\n",
       "      <td>NaN</td>\n",
       "      <td>text</td>\n",
       "      <td>self.Thetruthishere</td>\n",
       "      <td>True</td>\n",
       "      <td>&amp;lt;!-- SC_OFF --&amp;gt;&amp;lt;div class=\"md\"&amp;gt;&amp;lt...</td>\n",
       "      <td>NaN</td>\n",
       "      <td>NaN</td>\n",
       "      <td>NaN</td>\n",
       "      <td>NaN</td>\n",
       "      <td>False</td>\n",
       "      <td>False</td>\n",
       "      <td>False</td>\n",
       "      <td>False</td>\n",
       "      <td>False</td>\n",
       "      <td>[]</td>\n",
       "      <td>[]</td>\n",
       "      <td>False</td>\n",
       "      <td>False</td>\n",
       "      <td>False</td>\n",
       "      <td>False</td>\n",
       "      <td>NaN</td>\n",
       "      <td>False</td>\n",
       "      <td>NaN</td>\n",
       "      <td>NaN</td>\n",
       "      <td>NaN</td>\n",
       "      <td>t5_2sntx</td>\n",
       "      <td>NaN</td>\n",
       "      <td>NaN</td>\n",
       "      <td>NaN</td>\n",
       "      <td>fefpwi</td>\n",
       "      <td>True</td>\n",
       "      <td>NaN</td>\n",
       "      <td>samgigi</td>\n",
       "      <td>NaN</td>\n",
       "      <td>44</td>\n",
       "      <td>True</td>\n",
       "      <td>all_ads</td>\n",
       "      <td>False</td>\n",
       "      <td>[]</td>\n",
       "      <td>False</td>\n",
       "      <td>NaN</td>\n",
       "      <td>/r/Thetruthishere/comments/fefpwi/demonic_sounds/</td>\n",
       "      <td>all_ads</td>\n",
       "      <td>False</td>\n",
       "      <td>https://www.reddit.com/r/Thetruthishere/commen...</td>\n",
       "      <td>247298</td>\n",
       "      <td>1.583511e+09</td>\n",
       "      <td>0</td>\n",
       "      <td>NaN</td>\n",
       "      <td>False</td>\n",
       "      <td>NaN</td>\n",
       "      <td>NaN</td>\n",
       "      <td>NaN</td>\n",
       "      <td>NaN</td>\n",
       "    </tr>\n",
       "    <tr>\n",
       "      <th>1</th>\n",
       "      <td>NaN</td>\n",
       "      <td>Thetruthishere</td>\n",
       "      <td>Does anyone else feel like their is something ...</td>\n",
       "      <td>t2_4w0h8res</td>\n",
       "      <td>False</td>\n",
       "      <td>NaN</td>\n",
       "      <td>0</td>\n",
       "      <td>False</td>\n",
       "      <td>Anyone else?</td>\n",
       "      <td>[]</td>\n",
       "      <td>r/Thetruthishere</td>\n",
       "      <td>False</td>\n",
       "      <td>6</td>\n",
       "      <td>dis</td>\n",
       "      <td>0</td>\n",
       "      <td>False</td>\n",
       "      <td>t3_feiyju</td>\n",
       "      <td>False</td>\n",
       "      <td>dark</td>\n",
       "      <td>NaN</td>\n",
       "      <td>public</td>\n",
       "      <td>16</td>\n",
       "      <td>0</td>\n",
       "      <td>{}</td>\n",
       "      <td>NaN</td>\n",
       "      <td>False</td>\n",
       "      <td>[]</td>\n",
       "      <td>NaN</td>\n",
       "      <td>False</td>\n",
       "      <td>False</td>\n",
       "      <td>NaN</td>\n",
       "      <td>{}</td>\n",
       "      <td>Discussion/Advice</td>\n",
       "      <td>False</td>\n",
       "      <td>16</td>\n",
       "      <td>NaN</td>\n",
       "      <td>False</td>\n",
       "      <td>NaN</td>\n",
       "      <td>False</td>\n",
       "      <td>NaN</td>\n",
       "      <td>[]</td>\n",
       "      <td>{}</td>\n",
       "      <td>NaN</td>\n",
       "      <td>True</td>\n",
       "      <td>NaN</td>\n",
       "      <td>1.583553e+09</td>\n",
       "      <td>text</td>\n",
       "      <td>6</td>\n",
       "      <td>NaN</td>\n",
       "      <td>NaN</td>\n",
       "      <td>text</td>\n",
       "      <td>self.Thetruthishere</td>\n",
       "      <td>False</td>\n",
       "      <td>&amp;lt;!-- SC_OFF --&amp;gt;&amp;lt;div class=\"md\"&amp;gt;&amp;lt...</td>\n",
       "      <td>NaN</td>\n",
       "      <td>NaN</td>\n",
       "      <td>NaN</td>\n",
       "      <td>NaN</td>\n",
       "      <td>False</td>\n",
       "      <td>False</td>\n",
       "      <td>False</td>\n",
       "      <td>False</td>\n",
       "      <td>False</td>\n",
       "      <td>[]</td>\n",
       "      <td>[]</td>\n",
       "      <td>False</td>\n",
       "      <td>False</td>\n",
       "      <td>False</td>\n",
       "      <td>False</td>\n",
       "      <td>NaN</td>\n",
       "      <td>False</td>\n",
       "      <td>NaN</td>\n",
       "      <td>NaN</td>\n",
       "      <td>NaN</td>\n",
       "      <td>t5_2sntx</td>\n",
       "      <td>NaN</td>\n",
       "      <td>NaN</td>\n",
       "      <td>NaN</td>\n",
       "      <td>feiyju</td>\n",
       "      <td>True</td>\n",
       "      <td>NaN</td>\n",
       "      <td>Godzoflightning</td>\n",
       "      <td>NaN</td>\n",
       "      <td>16</td>\n",
       "      <td>True</td>\n",
       "      <td>all_ads</td>\n",
       "      <td>False</td>\n",
       "      <td>[]</td>\n",
       "      <td>False</td>\n",
       "      <td>NaN</td>\n",
       "      <td>/r/Thetruthishere/comments/feiyju/anyone_else/</td>\n",
       "      <td>all_ads</td>\n",
       "      <td>False</td>\n",
       "      <td>https://www.reddit.com/r/Thetruthishere/commen...</td>\n",
       "      <td>247298</td>\n",
       "      <td>1.583524e+09</td>\n",
       "      <td>0</td>\n",
       "      <td>NaN</td>\n",
       "      <td>False</td>\n",
       "      <td>cca59752-a3c0-11e3-bf03-12313d18400c</td>\n",
       "      <td>NaN</td>\n",
       "      <td>NaN</td>\n",
       "      <td>NaN</td>\n",
       "    </tr>\n",
       "    <tr>\n",
       "      <th>2</th>\n",
       "      <td>NaN</td>\n",
       "      <td>Thetruthishere</td>\n",
       "      <td>Hi there! I just recently got this subreddit r...</td>\n",
       "      <td>t2_z9h2z1z</td>\n",
       "      <td>False</td>\n",
       "      <td>NaN</td>\n",
       "      <td>0</td>\n",
       "      <td>False</td>\n",
       "      <td>Demonic type of screams and other strange nois...</td>\n",
       "      <td>[]</td>\n",
       "      <td>r/Thetruthishere</td>\n",
       "      <td>False</td>\n",
       "      <td>6</td>\n",
       "      <td>6</td>\n",
       "      <td>0</td>\n",
       "      <td>False</td>\n",
       "      <td>t3_fem41y</td>\n",
       "      <td>False</td>\n",
       "      <td>dark</td>\n",
       "      <td>NaN</td>\n",
       "      <td>public</td>\n",
       "      <td>7</td>\n",
       "      <td>0</td>\n",
       "      <td>{}</td>\n",
       "      <td>NaN</td>\n",
       "      <td>False</td>\n",
       "      <td>[]</td>\n",
       "      <td>NaN</td>\n",
       "      <td>False</td>\n",
       "      <td>False</td>\n",
       "      <td>NaN</td>\n",
       "      <td>{}</td>\n",
       "      <td>Strange Sounds</td>\n",
       "      <td>False</td>\n",
       "      <td>7</td>\n",
       "      <td>NaN</td>\n",
       "      <td>False</td>\n",
       "      <td>NaN</td>\n",
       "      <td>False</td>\n",
       "      <td>NaN</td>\n",
       "      <td>[]</td>\n",
       "      <td>{}</td>\n",
       "      <td>NaN</td>\n",
       "      <td>True</td>\n",
       "      <td>NaN</td>\n",
       "      <td>1.583565e+09</td>\n",
       "      <td>text</td>\n",
       "      <td>6</td>\n",
       "      <td>NaN</td>\n",
       "      <td>NaN</td>\n",
       "      <td>text</td>\n",
       "      <td>self.Thetruthishere</td>\n",
       "      <td>False</td>\n",
       "      <td>&amp;lt;!-- SC_OFF --&amp;gt;&amp;lt;div class=\"md\"&amp;gt;&amp;lt...</td>\n",
       "      <td>NaN</td>\n",
       "      <td>NaN</td>\n",
       "      <td>NaN</td>\n",
       "      <td>NaN</td>\n",
       "      <td>False</td>\n",
       "      <td>True</td>\n",
       "      <td>False</td>\n",
       "      <td>False</td>\n",
       "      <td>False</td>\n",
       "      <td>[]</td>\n",
       "      <td>[]</td>\n",
       "      <td>False</td>\n",
       "      <td>False</td>\n",
       "      <td>False</td>\n",
       "      <td>False</td>\n",
       "      <td>NaN</td>\n",
       "      <td>False</td>\n",
       "      <td>NaN</td>\n",
       "      <td>NaN</td>\n",
       "      <td>NaN</td>\n",
       "      <td>t5_2sntx</td>\n",
       "      <td>NaN</td>\n",
       "      <td>NaN</td>\n",
       "      <td>NaN</td>\n",
       "      <td>fem41y</td>\n",
       "      <td>True</td>\n",
       "      <td>NaN</td>\n",
       "      <td>M0TH3RSH1P_TH3T4</td>\n",
       "      <td>NaN</td>\n",
       "      <td>3</td>\n",
       "      <td>True</td>\n",
       "      <td>all_ads</td>\n",
       "      <td>False</td>\n",
       "      <td>[]</td>\n",
       "      <td>False</td>\n",
       "      <td>NaN</td>\n",
       "      <td>/r/Thetruthishere/comments/fem41y/demonic_type...</td>\n",
       "      <td>all_ads</td>\n",
       "      <td>False</td>\n",
       "      <td>https://www.reddit.com/r/Thetruthishere/commen...</td>\n",
       "      <td>247298</td>\n",
       "      <td>1.583536e+09</td>\n",
       "      <td>0</td>\n",
       "      <td>NaN</td>\n",
       "      <td>False</td>\n",
       "      <td>4e848a16-fd45-11e3-8641-12313b0e95bd</td>\n",
       "      <td>NaN</td>\n",
       "      <td>NaN</td>\n",
       "      <td>NaN</td>\n",
       "    </tr>\n",
       "  </tbody>\n",
       "</table>\n",
       "</div>"
      ],
      "text/plain": [
       "   approved_at_utc       subreddit  \\\n",
       "0              NaN  Thetruthishere   \n",
       "1              NaN  Thetruthishere   \n",
       "2              NaN  Thetruthishere   \n",
       "\n",
       "                                            selftext author_fullname  saved  \\\n",
       "0   I am sharing this wherever I think would make...     t2_4qqdrtqg  False   \n",
       "1  Does anyone else feel like their is something ...     t2_4w0h8res  False   \n",
       "2  Hi there! I just recently got this subreddit r...      t2_z9h2z1z  False   \n",
       "\n",
       "   mod_reason_title  gilded  clicked  \\\n",
       "0               NaN       0    False   \n",
       "1               NaN       0    False   \n",
       "2               NaN       0    False   \n",
       "\n",
       "                                               title link_flair_richtext  \\\n",
       "0                                     Demonic sounds                  []   \n",
       "1                                       Anyone else?                  []   \n",
       "2  Demonic type of screams and other strange nois...                  []   \n",
       "\n",
       "  subreddit_name_prefixed  hidden  pwls link_flair_css_class  downs  \\\n",
       "0        r/Thetruthishere   False     6                  NaN      0   \n",
       "1        r/Thetruthishere   False     6                  dis      0   \n",
       "2        r/Thetruthishere   False     6                    6      0   \n",
       "\n",
       "   hide_score       name  quarantine link_flair_text_color  \\\n",
       "0       False  t3_fefpwi       False                  dark   \n",
       "1       False  t3_feiyju       False                  dark   \n",
       "2       False  t3_fem41y       False                  dark   \n",
       "\n",
       "   author_flair_background_color subreddit_type  ups  total_awards_received  \\\n",
       "0                            NaN         public  142                      0   \n",
       "1                            NaN         public   16                      0   \n",
       "2                            NaN         public    7                      0   \n",
       "\n",
       "  media_embed  author_flair_template_id  is_original_content user_reports  \\\n",
       "0          {}                       NaN                False           []   \n",
       "1          {}                       NaN                False           []   \n",
       "2          {}                       NaN                False           []   \n",
       "\n",
       "   secure_media  is_reddit_media_domain  is_meta  category secure_media_embed  \\\n",
       "0           NaN                   False    False       NaN                 {}   \n",
       "1           NaN                   False    False       NaN                 {}   \n",
       "2           NaN                   False    False       NaN                 {}   \n",
       "\n",
       "     link_flair_text  can_mod_post  score  approved_by author_premium  \\\n",
       "0                NaN         False    142          NaN          False   \n",
       "1  Discussion/Advice         False     16          NaN          False   \n",
       "2     Strange Sounds         False      7          NaN          False   \n",
       "\n",
       "   thumbnail edited  author_flair_css_class author_flair_richtext gildings  \\\n",
       "0        NaN  False                     NaN                    []       {}   \n",
       "1        NaN  False                     NaN                    []       {}   \n",
       "2        NaN  False                     NaN                    []       {}   \n",
       "\n",
       "   content_categories  is_self  mod_note       created link_flair_type  wls  \\\n",
       "0                 NaN     True       NaN  1.583540e+09            text    6   \n",
       "1                 NaN     True       NaN  1.583553e+09            text    6   \n",
       "2                 NaN     True       NaN  1.583565e+09            text    6   \n",
       "\n",
       "   removed_by_category  banned_by author_flair_type               domain  \\\n",
       "0                  NaN        NaN              text  self.Thetruthishere   \n",
       "1                  NaN        NaN              text  self.Thetruthishere   \n",
       "2                  NaN        NaN              text  self.Thetruthishere   \n",
       "\n",
       "   allow_live_comments                                      selftext_html  \\\n",
       "0                 True  &lt;!-- SC_OFF --&gt;&lt;div class=\"md\"&gt;&lt...   \n",
       "1                False  &lt;!-- SC_OFF --&gt;&lt;div class=\"md\"&gt;&lt...   \n",
       "2                False  &lt;!-- SC_OFF --&gt;&lt;div class=\"md\"&gt;&lt...   \n",
       "\n",
       "   likes  suggested_sort  banned_at_utc  view_count  archived  no_follow  \\\n",
       "0    NaN             NaN            NaN         NaN     False      False   \n",
       "1    NaN             NaN            NaN         NaN     False      False   \n",
       "2    NaN             NaN            NaN         NaN     False       True   \n",
       "\n",
       "   is_crosspostable  pinned  over_18 all_awardings awarders  media_only  \\\n",
       "0             False   False    False            []       []       False   \n",
       "1             False   False    False            []       []       False   \n",
       "2             False   False    False            []       []       False   \n",
       "\n",
       "   can_gild  spoiler  locked  author_flair_text  visited  removed_by  \\\n",
       "0     False    False   False                NaN    False         NaN   \n",
       "1     False    False   False                NaN    False         NaN   \n",
       "2     False    False   False                NaN    False         NaN   \n",
       "\n",
       "   num_reports  distinguished subreddit_id  mod_reason_by  removal_reason  \\\n",
       "0          NaN            NaN     t5_2sntx            NaN             NaN   \n",
       "1          NaN            NaN     t5_2sntx            NaN             NaN   \n",
       "2          NaN            NaN     t5_2sntx            NaN             NaN   \n",
       "\n",
       "   link_flair_background_color      id  is_robot_indexable  report_reasons  \\\n",
       "0                          NaN  fefpwi                True             NaN   \n",
       "1                          NaN  feiyju                True             NaN   \n",
       "2                          NaN  fem41y                True             NaN   \n",
       "\n",
       "             author  discussion_type  num_comments  send_replies  \\\n",
       "0           samgigi              NaN            44          True   \n",
       "1   Godzoflightning              NaN            16          True   \n",
       "2  M0TH3RSH1P_TH3T4              NaN             3          True   \n",
       "\n",
       "  whitelist_status  contest_mode mod_reports author_patreon_flair  \\\n",
       "0          all_ads         False          []                False   \n",
       "1          all_ads         False          []                False   \n",
       "2          all_ads         False          []                False   \n",
       "\n",
       "  author_flair_text_color                                          permalink  \\\n",
       "0                     NaN  /r/Thetruthishere/comments/fefpwi/demonic_sounds/   \n",
       "1                     NaN     /r/Thetruthishere/comments/feiyju/anyone_else/   \n",
       "2                     NaN  /r/Thetruthishere/comments/fem41y/demonic_type...   \n",
       "\n",
       "  parent_whitelist_status  stickied  \\\n",
       "0                 all_ads     False   \n",
       "1                 all_ads     False   \n",
       "2                 all_ads     False   \n",
       "\n",
       "                                                 url  subreddit_subscribers  \\\n",
       "0  https://www.reddit.com/r/Thetruthishere/commen...                 247298   \n",
       "1  https://www.reddit.com/r/Thetruthishere/commen...                 247298   \n",
       "2  https://www.reddit.com/r/Thetruthishere/commen...                 247298   \n",
       "\n",
       "    created_utc  num_crossposts  media  is_video  \\\n",
       "0  1.583511e+09               0    NaN     False   \n",
       "1  1.583524e+09               0    NaN     False   \n",
       "2  1.583536e+09               0    NaN     False   \n",
       "\n",
       "                 link_flair_template_id crosspost_parent_list  \\\n",
       "0                                   NaN                   NaN   \n",
       "1  cca59752-a3c0-11e3-bf03-12313d18400c                   NaN   \n",
       "2  4e848a16-fd45-11e3-8641-12313b0e95bd                   NaN   \n",
       "\n",
       "  crosspost_parent author_cakeday  \n",
       "0              NaN            NaN  \n",
       "1              NaN            NaN  \n",
       "2              NaN            NaN  "
      ]
     },
     "execution_count": 10,
     "metadata": {},
     "output_type": "execute_result"
    }
   ],
   "source": [
    "### Overview of the scraped datasets:\n",
    "### thetrueishere subreddits\n",
    "df_thetrueishere.head(3)"
   ]
  },
  {
   "cell_type": "markdown",
   "metadata": {},
   "source": [
    "#### Retend only the wanted features ('selftex', 'title') and target-y ('subreddit') in the dataframe"
   ]
  },
  {
   "cell_type": "code",
   "execution_count": 11,
   "metadata": {},
   "outputs": [
    {
     "data": {
      "text/html": [
       "<div>\n",
       "<style scoped>\n",
       "    .dataframe tbody tr th:only-of-type {\n",
       "        vertical-align: middle;\n",
       "    }\n",
       "\n",
       "    .dataframe tbody tr th {\n",
       "        vertical-align: top;\n",
       "    }\n",
       "\n",
       "    .dataframe thead th {\n",
       "        text-align: right;\n",
       "    }\n",
       "</style>\n",
       "<table border=\"1\" class=\"dataframe\">\n",
       "  <thead>\n",
       "    <tr style=\"text-align: right;\">\n",
       "      <th></th>\n",
       "      <th>subreddit</th>\n",
       "      <th>selftext</th>\n",
       "      <th>title</th>\n",
       "    </tr>\n",
       "  </thead>\n",
       "  <tbody>\n",
       "    <tr>\n",
       "      <th>0</th>\n",
       "      <td>nosleep</td>\n",
       "      <td>A half-dozen police cars crowded the gravel dr...</td>\n",
       "      <td>There's Been a String of Suicides in my Town. ...</td>\n",
       "    </tr>\n",
       "    <tr>\n",
       "      <th>1</th>\n",
       "      <td>nosleep</td>\n",
       "      <td>[Part V](https://www.reddit.com/r/nosleep/comm...</td>\n",
       "      <td>My wife and I bought a ranch in the mountains ...</td>\n",
       "    </tr>\n",
       "    <tr>\n",
       "      <th>2</th>\n",
       "      <td>nosleep</td>\n",
       "      <td>People called her Brittle.\\n\\nAlexa was differ...</td>\n",
       "      <td>My little sister had glass bones</td>\n",
       "    </tr>\n",
       "  </tbody>\n",
       "</table>\n",
       "</div>"
      ],
      "text/plain": [
       "  subreddit                                           selftext  \\\n",
       "0   nosleep  A half-dozen police cars crowded the gravel dr...   \n",
       "1   nosleep  [Part V](https://www.reddit.com/r/nosleep/comm...   \n",
       "2   nosleep  People called her Brittle.\\n\\nAlexa was differ...   \n",
       "\n",
       "                                               title  \n",
       "0  There's Been a String of Suicides in my Town. ...  \n",
       "1  My wife and I bought a ranch in the mountains ...  \n",
       "2                   My little sister had glass bones  "
      ]
     },
     "execution_count": 11,
     "metadata": {},
     "output_type": "execute_result"
    }
   ],
   "source": [
    "### subreddit 1: nosleep\n",
    "df_nosleep = df_nosleep[['subreddit', 'selftext', 'title']].loc[2:,:].reset_index(drop = True) \n",
    "# remove the first 2 rows as it was not post\n",
    "df_nosleep.head(3)"
   ]
  },
  {
   "cell_type": "code",
   "execution_count": 12,
   "metadata": {},
   "outputs": [],
   "source": [
    "### subreddit 1: nosleep (holdout set)\n",
    "df_nosleep_holdout = df_nosleep_holdout[['subreddit', 'selftext', 'title']].loc[2:,:].reset_index(drop = True) \n",
    "# remove the first 2 rows as it was has noselftext content\n"
   ]
  },
  {
   "cell_type": "code",
   "execution_count": 13,
   "metadata": {},
   "outputs": [
    {
     "data": {
      "text/html": [
       "<div>\n",
       "<style scoped>\n",
       "    .dataframe tbody tr th:only-of-type {\n",
       "        vertical-align: middle;\n",
       "    }\n",
       "\n",
       "    .dataframe tbody tr th {\n",
       "        vertical-align: top;\n",
       "    }\n",
       "\n",
       "    .dataframe thead th {\n",
       "        text-align: right;\n",
       "    }\n",
       "</style>\n",
       "<table border=\"1\" class=\"dataframe\">\n",
       "  <thead>\n",
       "    <tr style=\"text-align: right;\">\n",
       "      <th></th>\n",
       "      <th>subreddit</th>\n",
       "      <th>selftext</th>\n",
       "      <th>title</th>\n",
       "    </tr>\n",
       "  </thead>\n",
       "  <tbody>\n",
       "    <tr>\n",
       "      <th>0</th>\n",
       "      <td>Thetruthishere</td>\n",
       "      <td>I am sharing this wherever I think would make...</td>\n",
       "      <td>Demonic sounds</td>\n",
       "    </tr>\n",
       "    <tr>\n",
       "      <th>1</th>\n",
       "      <td>Thetruthishere</td>\n",
       "      <td>Does anyone else feel like their is something ...</td>\n",
       "      <td>Anyone else?</td>\n",
       "    </tr>\n",
       "    <tr>\n",
       "      <th>2</th>\n",
       "      <td>Thetruthishere</td>\n",
       "      <td>Hi there! I just recently got this subreddit r...</td>\n",
       "      <td>Demonic type of screams and other strange nois...</td>\n",
       "    </tr>\n",
       "  </tbody>\n",
       "</table>\n",
       "</div>"
      ],
      "text/plain": [
       "        subreddit                                           selftext  \\\n",
       "0  Thetruthishere   I am sharing this wherever I think would make...   \n",
       "1  Thetruthishere  Does anyone else feel like their is something ...   \n",
       "2  Thetruthishere  Hi there! I just recently got this subreddit r...   \n",
       "\n",
       "                                               title  \n",
       "0                                     Demonic sounds  \n",
       "1                                       Anyone else?  \n",
       "2  Demonic type of screams and other strange nois...  "
      ]
     },
     "execution_count": 13,
     "metadata": {},
     "output_type": "execute_result"
    }
   ],
   "source": [
    "### subreddit 2: thetrueishere\n",
    "df_thetrueishere = df_thetrueishere[['subreddit', 'selftext', 'title']]\n",
    "df_thetrueishere.head(3)"
   ]
  },
  {
   "cell_type": "code",
   "execution_count": 14,
   "metadata": {},
   "outputs": [],
   "source": [
    "### subreddit 2: thetrueishere (holdout set)\n",
    "df_thetrueishere_holdout = df_thetrueishere_holdout[['subreddit', 'selftext', 'title']]"
   ]
  },
  {
   "cell_type": "markdown",
   "metadata": {},
   "source": [
    "#### check for missing values"
   ]
  },
  {
   "cell_type": "code",
   "execution_count": 15,
   "metadata": {},
   "outputs": [
    {
     "data": {
      "text/plain": [
       "subreddit    0\n",
       "selftext     0\n",
       "title        0\n",
       "dtype: int64"
      ]
     },
     "execution_count": 15,
     "metadata": {},
     "output_type": "execute_result"
    }
   ],
   "source": [
    "### subreddit 1: nosleep\n",
    "df_nosleep.isnull().sum()"
   ]
  },
  {
   "cell_type": "code",
   "execution_count": 16,
   "metadata": {},
   "outputs": [
    {
     "data": {
      "text/plain": [
       "subreddit    0\n",
       "selftext     0\n",
       "title        0\n",
       "dtype: int64"
      ]
     },
     "execution_count": 16,
     "metadata": {},
     "output_type": "execute_result"
    }
   ],
   "source": [
    "df_nosleep_holdout.isnull().sum()"
   ]
  },
  {
   "cell_type": "code",
   "execution_count": 17,
   "metadata": {},
   "outputs": [
    {
     "data": {
      "text/plain": [
       "subreddit     0\n",
       "selftext     60\n",
       "title         0\n",
       "dtype: int64"
      ]
     },
     "execution_count": 17,
     "metadata": {},
     "output_type": "execute_result"
    }
   ],
   "source": [
    "### subreddit 2: thetrueishere\n",
    "df_thetrueishere.isnull().sum()"
   ]
  },
  {
   "cell_type": "code",
   "execution_count": 18,
   "metadata": {},
   "outputs": [
    {
     "data": {
      "text/plain": [
       "subreddit     0\n",
       "selftext     22\n",
       "title         0\n",
       "dtype: int64"
      ]
     },
     "execution_count": 18,
     "metadata": {},
     "output_type": "execute_result"
    }
   ],
   "source": [
    "df_thetrueishere_holdout.isnull().sum()"
   ]
  },
  {
   "cell_type": "code",
   "execution_count": 19,
   "metadata": {},
   "outputs": [
    {
     "data": {
      "text/html": [
       "<div>\n",
       "<style scoped>\n",
       "    .dataframe tbody tr th:only-of-type {\n",
       "        vertical-align: middle;\n",
       "    }\n",
       "\n",
       "    .dataframe tbody tr th {\n",
       "        vertical-align: top;\n",
       "    }\n",
       "\n",
       "    .dataframe thead th {\n",
       "        text-align: right;\n",
       "    }\n",
       "</style>\n",
       "<table border=\"1\" class=\"dataframe\">\n",
       "  <thead>\n",
       "    <tr style=\"text-align: right;\">\n",
       "      <th></th>\n",
       "      <th>subreddit</th>\n",
       "      <th>selftext</th>\n",
       "      <th>title</th>\n",
       "    </tr>\n",
       "  </thead>\n",
       "  <tbody>\n",
       "    <tr>\n",
       "      <th>30</th>\n",
       "      <td>Thetruthishere</td>\n",
       "      <td>NaN</td>\n",
       "      <td>Have you ever met a reptilian shapeshifter?</td>\n",
       "    </tr>\n",
       "    <tr>\n",
       "      <th>35</th>\n",
       "      <td>Thetruthishere</td>\n",
       "      <td>NaN</td>\n",
       "      <td>Entity on babycam 12/02/20</td>\n",
       "    </tr>\n",
       "    <tr>\n",
       "      <th>38</th>\n",
       "      <td>Thetruthishere</td>\n",
       "      <td>NaN</td>\n",
       "      <td>Anybody any info on entities that feed usually...</td>\n",
       "    </tr>\n",
       "    <tr>\n",
       "      <th>43</th>\n",
       "      <td>Thetruthishere</td>\n",
       "      <td>NaN</td>\n",
       "      <td>Tell me your story</td>\n",
       "    </tr>\n",
       "    <tr>\n",
       "      <th>46</th>\n",
       "      <td>Thetruthishere</td>\n",
       "      <td>NaN</td>\n",
       "      <td>Hearing voices,simulation,demonic,paranormal,g...</td>\n",
       "    </tr>\n",
       "  </tbody>\n",
       "</table>\n",
       "</div>"
      ],
      "text/plain": [
       "         subreddit selftext                                              title\n",
       "30  Thetruthishere      NaN        Have you ever met a reptilian shapeshifter?\n",
       "35  Thetruthishere      NaN                         Entity on babycam 12/02/20\n",
       "38  Thetruthishere      NaN  Anybody any info on entities that feed usually...\n",
       "43  Thetruthishere      NaN                                 Tell me your story\n",
       "46  Thetruthishere      NaN  Hearing voices,simulation,demonic,paranormal,g..."
      ]
     },
     "execution_count": 19,
     "metadata": {},
     "output_type": "execute_result"
    }
   ],
   "source": [
    "#### The missing value in the 'selftext', i.e. the post's content is due to it posted by asking QUESTION.\n",
    "#### Thus, it only has title, with no content.\n",
    "#### Thus, will drop these rows.\n",
    "df_thetrueishere[df_thetrueishere['selftext'].isnull()].head()"
   ]
  },
  {
   "cell_type": "code",
   "execution_count": 20,
   "metadata": {},
   "outputs": [],
   "source": [
    "#### dropna for the rows with NaN in 'selftext'\n",
    "df_thetrueishere = df_thetrueishere.dropna().reset_index(drop = True) "
   ]
  },
  {
   "cell_type": "code",
   "execution_count": 21,
   "metadata": {},
   "outputs": [],
   "source": [
    "#### dropna for the holdout set as well the rows with NaN in 'selftext'\n",
    "df_thetrueishere_holdout = df_thetrueishere_holdout.dropna().reset_index(drop = True) "
   ]
  },
  {
   "cell_type": "markdown",
   "metadata": {},
   "source": [
    "### For newly scrap post (holdout set):\n",
    "Drop the duplicate post, the post that is in the first scrapping that used to train the classification model."
   ]
  },
  {
   "cell_type": "code",
   "execution_count": 22,
   "metadata": {},
   "outputs": [
    {
     "data": {
      "text/plain": [
       "246"
      ]
     },
     "execution_count": 22,
     "metadata": {},
     "output_type": "execute_result"
    }
   ],
   "source": [
    "### Nosleep subreddit\n",
    "### Check is there any duplicate title in the newly scrape post.\n",
    "### There are 246 duplicated post need to drop from the 375 holdout post\n",
    "df_nosleep_holdout['title'].isin(df_nosleep['title']).astype(int).sum() "
   ]
  },
  {
   "cell_type": "code",
   "execution_count": 23,
   "metadata": {},
   "outputs": [
    {
     "data": {
      "text/plain": [
       "0"
      ]
     },
     "execution_count": 23,
     "metadata": {},
     "output_type": "execute_result"
    }
   ],
   "source": [
    "### set the mask to retain those not duplicated post\n",
    "mask_nosleep = np.logical_not(df_nosleep_holdout['title'].isin(df_nosleep['title']))\n",
    "df_nosleep_holdout = df_nosleep_holdout[mask_nosleep]\n",
    "\n",
    "### check again any duplicate post\n",
    "df_nosleep_holdout['title'].isin(df_nosleep['title']).astype(int).sum() "
   ]
  },
  {
   "cell_type": "code",
   "execution_count": 24,
   "metadata": {},
   "outputs": [
    {
     "data": {
      "text/plain": [
       "329"
      ]
     },
     "execution_count": 24,
     "metadata": {},
     "output_type": "execute_result"
    }
   ],
   "source": [
    "### Repeat the same for 'thetrueishere' subreddit\n",
    "### There are 329 duplicated post need to drop from the 350 holdout post\n",
    "df_thetrueishere_holdout['title'].isin(df_thetrueishere['title']).astype(int).sum()"
   ]
  },
  {
   "cell_type": "code",
   "execution_count": 25,
   "metadata": {},
   "outputs": [],
   "source": [
    "mask_thetrueishere = np.logical_not(df_thetrueishere_holdout['title'].isin(df_thetrueishere['title']))\n",
    "df_thetrueishere_holdout = df_thetrueishere_holdout[mask_thetrueishere]"
   ]
  },
  {
   "cell_type": "markdown",
   "metadata": {},
   "source": [
    "### 4.3 EDA"
   ]
  },
  {
   "cell_type": "markdown",
   "metadata": {},
   "source": [
    "#### 4.3.1 Word count\n",
    "It was observed that subreddits (Nosleep) has much longer post than subreddits (TheTrueIsHere).\n",
    "Thus, i made additional column to do the word counts for each subreddits and compare the two using histogram plot.\n",
    "\n",
    "The histogram plot in the next few cells clearly seen that the length of post for Nosleep is much longer than TheTrueIsHere. Whereas the title's length among the two subreddits are almost overlap to each other.\n",
    "Thus, I would drop the wordcounts column for title's word counts. The length's post might be a useful key indicator to differentiate the two subreddits as well."
   ]
  },
  {
   "cell_type": "code",
   "execution_count": 26,
   "metadata": {},
   "outputs": [
    {
     "data": {
      "text/html": [
       "<div>\n",
       "<style scoped>\n",
       "    .dataframe tbody tr th:only-of-type {\n",
       "        vertical-align: middle;\n",
       "    }\n",
       "\n",
       "    .dataframe tbody tr th {\n",
       "        vertical-align: top;\n",
       "    }\n",
       "\n",
       "    .dataframe thead th {\n",
       "        text-align: right;\n",
       "    }\n",
       "</style>\n",
       "<table border=\"1\" class=\"dataframe\">\n",
       "  <thead>\n",
       "    <tr style=\"text-align: right;\">\n",
       "      <th></th>\n",
       "      <th>subreddit</th>\n",
       "      <th>selftext</th>\n",
       "      <th>title</th>\n",
       "      <th>post_words</th>\n",
       "      <th>title_words</th>\n",
       "    </tr>\n",
       "  </thead>\n",
       "  <tbody>\n",
       "    <tr>\n",
       "      <th>0</th>\n",
       "      <td>nosleep</td>\n",
       "      <td>A half-dozen police cars crowded the gravel dr...</td>\n",
       "      <td>There's Been a String of Suicides in my Town. ...</td>\n",
       "      <td>2134</td>\n",
       "      <td>16</td>\n",
       "    </tr>\n",
       "    <tr>\n",
       "      <th>1</th>\n",
       "      <td>nosleep</td>\n",
       "      <td>[Part V](https://www.reddit.com/r/nosleep/comm...</td>\n",
       "      <td>My wife and I bought a ranch in the mountains ...</td>\n",
       "      <td>7329</td>\n",
       "      <td>31</td>\n",
       "    </tr>\n",
       "    <tr>\n",
       "      <th>2</th>\n",
       "      <td>nosleep</td>\n",
       "      <td>People called her Brittle.\\n\\nAlexa was differ...</td>\n",
       "      <td>My little sister had glass bones</td>\n",
       "      <td>1743</td>\n",
       "      <td>6</td>\n",
       "    </tr>\n",
       "  </tbody>\n",
       "</table>\n",
       "</div>"
      ],
      "text/plain": [
       "  subreddit                                           selftext  \\\n",
       "0   nosleep  A half-dozen police cars crowded the gravel dr...   \n",
       "1   nosleep  [Part V](https://www.reddit.com/r/nosleep/comm...   \n",
       "2   nosleep  People called her Brittle.\\n\\nAlexa was differ...   \n",
       "\n",
       "                                               title  post_words  title_words  \n",
       "0  There's Been a String of Suicides in my Town. ...        2134           16  \n",
       "1  My wife and I bought a ranch in the mountains ...        7329           31  \n",
       "2                   My little sister had glass bones        1743            6  "
      ]
     },
     "execution_count": 26,
     "metadata": {},
     "output_type": "execute_result"
    }
   ],
   "source": [
    "# Word count for Nosleep\n",
    "df_nosleep['post_words'] = df_nosleep['selftext'].str.split().str.len()\n",
    "df_nosleep['title_words'] = df_nosleep['title'].str.split().str.len()\n",
    "df_nosleep.head(3)"
   ]
  },
  {
   "cell_type": "code",
   "execution_count": 27,
   "metadata": {},
   "outputs": [
    {
     "data": {
      "text/html": [
       "<div>\n",
       "<style scoped>\n",
       "    .dataframe tbody tr th:only-of-type {\n",
       "        vertical-align: middle;\n",
       "    }\n",
       "\n",
       "    .dataframe tbody tr th {\n",
       "        vertical-align: top;\n",
       "    }\n",
       "\n",
       "    .dataframe thead th {\n",
       "        text-align: right;\n",
       "    }\n",
       "</style>\n",
       "<table border=\"1\" class=\"dataframe\">\n",
       "  <thead>\n",
       "    <tr style=\"text-align: right;\">\n",
       "      <th></th>\n",
       "      <th>subreddit</th>\n",
       "      <th>selftext</th>\n",
       "      <th>title</th>\n",
       "      <th>post_words</th>\n",
       "      <th>title_words</th>\n",
       "    </tr>\n",
       "  </thead>\n",
       "  <tbody>\n",
       "    <tr>\n",
       "      <th>0</th>\n",
       "      <td>Thetruthishere</td>\n",
       "      <td>I am sharing this wherever I think would make...</td>\n",
       "      <td>Demonic sounds</td>\n",
       "      <td>427</td>\n",
       "      <td>2</td>\n",
       "    </tr>\n",
       "    <tr>\n",
       "      <th>1</th>\n",
       "      <td>Thetruthishere</td>\n",
       "      <td>Does anyone else feel like their is something ...</td>\n",
       "      <td>Anyone else?</td>\n",
       "      <td>44</td>\n",
       "      <td>2</td>\n",
       "    </tr>\n",
       "    <tr>\n",
       "      <th>2</th>\n",
       "      <td>Thetruthishere</td>\n",
       "      <td>Hi there! I just recently got this subreddit r...</td>\n",
       "      <td>Demonic type of screams and other strange nois...</td>\n",
       "      <td>586</td>\n",
       "      <td>11</td>\n",
       "    </tr>\n",
       "  </tbody>\n",
       "</table>\n",
       "</div>"
      ],
      "text/plain": [
       "        subreddit                                           selftext  \\\n",
       "0  Thetruthishere   I am sharing this wherever I think would make...   \n",
       "1  Thetruthishere  Does anyone else feel like their is something ...   \n",
       "2  Thetruthishere  Hi there! I just recently got this subreddit r...   \n",
       "\n",
       "                                               title  post_words  title_words  \n",
       "0                                     Demonic sounds         427            2  \n",
       "1                                       Anyone else?          44            2  \n",
       "2  Demonic type of screams and other strange nois...         586           11  "
      ]
     },
     "execution_count": 27,
     "metadata": {},
     "output_type": "execute_result"
    }
   ],
   "source": [
    "# Word count for TheTruIsHere\n",
    "df_thetrueishere['post_words'] = df_thetrueishere['selftext'].str.split().str.len()\n",
    "df_thetrueishere['title_words'] = df_thetrueishere['title'].str.split().str.len()\n",
    "df_thetrueishere.head(3)"
   ]
  },
  {
   "cell_type": "code",
   "execution_count": 28,
   "metadata": {},
   "outputs": [],
   "source": [
    "### Define function to plot histogram (custom for the two subreddits word counts plot only)\n",
    "def hist_plot(colname, nbins, title):\n",
    "    fig, ax = plt.subplots(figsize = (10,8));\n",
    "    \n",
    "    ax = df_nosleep[colname].plot.hist(bins = nbins, alpha = 0.7, label = 'Nosleep');\n",
    "    ax = df_thetrueishere[colname].plot.hist(bins = nbins, alpha = 0.7, label = 'TheThruIsHere');\n",
    "    \n",
    "    ax.set_title(title, fontsize = 18);\n",
    "    ax.set_ylabel(\"Frequency of word counts\", fontsize = 14);\n",
    "    ax.set_xlabel(\"Number of word counts\", fontsize = 14);\n",
    "    ax.legend(loc=1, fontsize=14);\n",
    "    "
   ]
  },
  {
   "cell_type": "code",
   "execution_count": 29,
   "metadata": {},
   "outputs": [
    {
     "data": {
      "image/png": "[encoded data removed]",
      "text/plain": [
       "<Figure size 720x576 with 1 Axes>"
      ]
     },
     "metadata": {
      "needs_background": "light"
     },
     "output_type": "display_data"
    }
   ],
   "source": [
    "# Histogram for post's content (i.e. the self-text) word counts\n",
    "hist_plot(\"post_words\", 15, \"Word counts for Post's content\")"
   ]
  },
  {
   "cell_type": "code",
   "execution_count": 30,
   "metadata": {},
   "outputs": [
    {
     "data": {
      "image/png": "[encoded data removed]",
      "text/plain": [
       "<Figure size 720x576 with 1 Axes>"
      ]
     },
     "metadata": {
      "needs_background": "light"
     },
     "output_type": "display_data"
    }
   ],
   "source": [
    "# Histogram for title's word counts\n",
    "hist_plot('title_words', 15, \"Word counts for Title\")"
   ]
  },
  {
   "cell_type": "code",
   "execution_count": 31,
   "metadata": {},
   "outputs": [],
   "source": [
    "### drop title word counts column that were created to plot the above histogram\n",
    "df_nosleep.drop('title_words', axis = 1, inplace = True)\n",
    "df_thetrueishere.drop('title_words', axis = 1, inplace = True)"
   ]
  },
  {
   "cell_type": "markdown",
   "metadata": {},
   "source": [
    "#### 4.3.2 Post's content (selftext)\n",
    "Take a quick overview of how's the post content looks like for the two subreddits.\n",
    "There are words that need to clean, e.g. the newline \\n, html, expression words like 'helooooooo'\n",
    "This will be done in next step, i.e. pre-processing step.\n",
    "\n",
    "Prior to that, I will combine both the selftext and title together, then concatenate both subreddits into single dataframe and perform the pre-processing in one go."
   ]
  },
  {
   "cell_type": "code",
   "execution_count": 32,
   "metadata": {},
   "outputs": [
    {
     "data": {
      "text/plain": [
       "'A half-dozen police cars crowded the gravel driveway, their headlights lighting up a row of trees. The gnarled shadows they threw against the walls of the farmhouse swayed gently in the breeze.\\n\\nI pulled my hair back into a ponytail as I stepped over a line of yellow police tape. I didn’t want to be accused of contaminating any evidence. A young officer eyed me suspiciously as I approached the house, but let me pass through the front door.\\n\\nHe knew why I was there.\\n\\nI found Jack’s corpse in the upstairs bedroom, the blood from his self-inflicted gunshot wound still wet and sticky. Detective Marston, a thin balding man, stood in the corner of the room writing something in a notebook.\\n\\n“Hello Jane,” he said as I stepped through the doorway. “I’m surprised you didn’t beat me here.”\\n\\nI ignored the comment, squatting down near Jack’s body. Most of his head was missing, and a thick iron scent hung in the air. The old man wore a pair of blue overalls now spackled with blood. A piece of paper poked out of his chest pocket. I shot a look over my shoulder at Detective Marston. “You mind?” I asked.\\n\\n“Be my guest.”\\n\\nI pulled the paper out and unfolded it delicately. There were a few words written in a shaky hand. It read:\\n\\n*“It keeps getting closer. It keeps coming closer.”*\\n\\nI took a picture of the note with my phone before handing it over to the detective for him to read. He read it over a few more times, then paused. I knew he wanted to ask me about it, even if he hated that he needed me.\\n\\n“You’ve gotta have some kind of explanation of this for me,” he said.\\n\\nI did, but Marston didn’t need to know what my guess was. I’d been working for three months on these suicides, and I’d finally managed to win his trust. I wasn’t about to blow all my credibility on a guess that would have him questioning my sanity. Instead, I shot a look down the hallway.\\n\\n“Maybe,” I said. “I’ve got a few questions first. All the mirrors in the house are broken, I assume?”\\n\\n“Just like the other cases, yeah,” Marston said. “Anything that can show a reflection is either broken or thrown out.”\\n\\n“Who found him?”\\n\\n“I found the body myself. You guessed that he’d be the next to go, so I decided to drive out here and check on him.”\\n\\nI swung my head at the sound of crunching gravel. A car came to a stop in front of the house. The headlights flicked off and a girl stepped out, her hands covering her mouth. She looked to be around twenty years old.\\n\\nI shot a questioning look at Marston.\\n\\n“Its Olivia, his granddaughter,” he said. “She’s the only one left alive in Jack’s family. We called her a half-hour ago.” He stared at me, his eyes hard. “Is she going to be next?”\\n\\nI shut my eyes and rubbed my forehead. “Yeah. Probably.”\\n\\nMarston cursed.\\n\\nI handed him a business card. “If he wrote anything else down, please let me know.”\\n\\nHe took the card with a grunt, stuffing it into his back pocket.\\n\\nI left the room and made my way out of the house and down the driveway. I stopped in front of the girl and extended my hand. “I’m sorry for your loss,” I said. “My name is Jane, I’m a private investigator working on this case.”\\n\\nOlivia’s eyes hardened, and she didn’t take my hand. “I don’t have anything to say to a reporter.”\\n\\n“I’m not a reporter.” I paused, gathering my resolve. “And if you don’t come with me, I think you’re going to die like the rest of your family.”\\n\\nHer eyes widened. “I’m--”\\n\\n“Whatever’s causing these suicides is spreading,” I said. “Spreading to friends and family of the victims. First it was your aunt, then your cousin, now your grandpa. You’re the last one. It might already be too late, but it’s possible I can help you.”\\n\\nShe looked from me to the farmhouse over my shoulder, suddenly looking as if she might cry. “Ok. What should I do?”\\n\\n“Come with me.” She paused for another moment before nodding, and we walked to my car. “Olivia,” I said.\\n\\n“Yeah?”\\n\\n“Don’t look at any mirrors, on my car or otherwise.”\\n\\n“Why?”\\n\\n“Just don’t. Trust me.”\\n\\nShe stared at me as if I was crazy, but when she saw I was serious she agreed.\\n\\nI drove towards the road, gravel crunching under my tires.\\n\\nThe first few minutes of the drive passed in silence.\\n\\nOlivia took a deep breath, then turned to look at me. “So what’s gonna happen to me?”\\n\\n“First I’ll tell you what I know, then what I guess,” I said, running over the details in my mind. “The pattern for each victim is the same. According to their friends and family, victims start by showing erratic and paranoid behavior.”\\n\\n“Grandpa Jack was the same,” Olivia said. “Ever since he found my aunt’s body.”\\n\\nI nodded. “Their paranoid behavior is always followed by their breaking or covering of all reflective surfaces. Suicide comes next. The next victim is usually a close friend or family member, typically in the same household. They begin to show the same paranoid symptoms. They commit suicide soon after, and the psychosis spreads again.”\\n\\n“If that’s what you know,” she said. “What do you guess?”\\n\\nI swallowed hard. “I don’t… I don’t think that this is the work of a serial killer. Each method of suicide is different, and I don’t know of any drugs or poison that can cause a specific kind of psychosis in victims ranging from teenagers to retirees.” I shook my head. “I probably should’ve dismissed that possibility a long time ago.”\\n\\n“If not a serial killer, then what?”\\n\\n“I…” I said, trailing off as we reached my apartment. I paused to park and walk up the flight of stairs to my door, locking the deadbolt behind us for all the good it’d do.\\n\\n“Then what?” she asked again.\\n\\nI walked to my home office and pulled out a folder. “I’ve followed up on nearly thirty deaths over the past three months. Some of them left suicide notes.” I pulled out the pictures I’d taken from the crime scenes. Most of the suicide notes were short, and all were disjointed and confusing.\\n\\nI handed them to her one at a time:\\n\\n*“I saw it reflected in Marge’s eyes. Even her EYES aren’t safe.”*\\n\\n*“I can’t sleep, it’ll be watching me.”*\\n\\n*“The fingers. The FINGERS.”*\\n\\n*“It was in my rearview mirror today. It’s ALMOST TOUCHING ME.”*\\n\\nOlivia continued to flip through the suicide notes, her expression growing more and more disturbed. I finally pulled out my phone and showed her the note her grandfather had written.\\n\\n*“It keeps getting closer. It keeps coming closer.”*\\n\\n“Was this from my grandpa?” Olivia asked, her voice choked.\\n\\n“Yes. And like I said, I think you’re next,” I said.\\n\\nShe stared at me in horror. “What do I do?”\\n\\n“Every victim broke their mirrors and several mention reflections in their suicide notes. That means it’s for the best if you avoid them. I’ll cover the one hanging in my bathroom. You should also give me your phone. The black screen has a reflection, and I don’t want to take any chances.”\\n\\nShe nodded numbly. I took down my bathroom mirror and set it in the corner of my living room before covering it with a blanket.\\n\\n“You can sleep on the couch. We’ll talk more tomorrow.”\\n\\nIt was hard to sleep that night. My mind was flooded with images of the brutal suicides I’d investigated over the past months. Olivia was a rare opportunity. I had control over a victim before psychosis set in. Maybe I could save her.\\n\\nMaybe.\\n\\nThe next morning I woke up and found Olivia sitting on my couch, staring into space. Her head swiveled at me. I was afraid I’d see violence or fear in her eyes. Instead, I saw intensity.\\n\\n“I need to look in the mirror,” she said.\\n\\n“Why?” I asked. “Whatever the others saw was enough to basically break their minds. It could kill you.”\\n\\n“I need to know. You can cover it up once I see it.”\\n\\nI almost rejected the idea, but my curiosity got the better of me. Would *I* see something in the reflection behind her? Was one exposure enough to kill her?\\n\\n“Ok,” I said, bringing my still-covered mirror out from the corner.\\n\\nI grabbed the corner and slowly lifted the blanket, watching Olivia’s face for any reaction. She stared at the mirror intently until the blanket was pulled away. Then she shook her head and looked at me.\\n\\n“I don’t see anything.”\\n\\n“Really?” I asked, my mind racing. Maybe it had jumped to a neighbor instead. Maybe Jack had a bowling friend or something. Maybe--\\n\\nMy phone rang, the chirp making me jump. I looked at the display. It was Detective Marston.\\n\\n“Detective,” I said. “You have any new information for me?”\\n\\n“It-- It-- It-- I see it,” he said, his voice trembling.\\n\\n“What?” I asked, my face suddenly cold.\\n\\n“I broke the mirror so I wouldn’t see it anymore. But it’s still reflected in the shards. Jane, Jane please help me. You said you had a guess, why didn’t you tell me about this. Oh God, I thought about it again. If I look in the bathroom I’ll see it. Oh God, even my phone has a--” his voice cut off with the sound of the phone hitting the floor.\\n\\n“Marston!” I shouted. “Marston, I’m coming.”\\n\\nI hung up and turned to Olivia. “I was wrong,” I said. “It wasn’t you. Its a detective. There might still be time.”\\n\\nI ran down to my car, surprised that Olivia was running down the steps behind me.\\n\\nWe sped across town, Olivia dialing the police while I snaked down several windy country roads. I reached Marston’s house, told Olivia to stay in the car, and ran up the steps to his front door. It was unlocked.\\n\\nMarston lay inside the bath. Blood spattered the white tiles. A piece of shattered mirror hung limply in one hand. He’d taken it to his own neck. I looked away, doing my best to choke down the vomit that rose in my throat.\\n\\nThen he gasped, his eyes flicking open.\\n\\n“I… I didn’t even know him,” he said, his voice raspy and gurgling. “I just found the body, that was all...” he trailed off, blood choking off his words. His head slumped forward, a few drops flicking off his nose.\\n\\nI leaned against the wall of the bathroom, trying to control my breathing. It was the most gruesome thing I’d ever seen.\\n\\nThen I slowly looked to my left.\\n\\nHis medicine cabinet still hung on the wall. Its mirror had been shattered in the center, long cracks surrounding a central point. I saw myself reflected two dozen times in the individual shards.\\n\\nI thought back through all the cases. All the victims. Family members, friends, neighbors. They weren’t just close to the victims. Each of them had found the victim’s bodies. I looked at Marston’s now-lifeless body, then looked back at the mirror.\\n\\nThe mirror swung, changing my view from myself, to a view of the kitchen. A figure stood there, reflected two dozen times in the shards. It was impossible to get a good view due to the damage, but it was a creature with eyes sunken deep in its skull. Its hands had long gnarled fingers. It was staring at me.\\n\\nI thought Marston’s body was the worst thing I’d ever seen, but this was far, far worse. I slammed my palms over my eyes, the broken image of the creature burning into my brain like a hot iron. I vomited onto the tiles before running for the front door with my hands still clamped firmly onto my face. My foot hit the top step and twisted, and I fell down the rest of them in a tangled heap. Blood oozed from scrapes on my elbows, knees, and forehead, but I didn’t remove my hands from my eyes.\\n\\nI lay in the grass, the warm sun on my face, and I wished for nothing more than the will to claw my own eyes out. That thing was following me, I had no doubt. I had no doubt it was getting closer to me.\\n\\nThe thought of seeing it again forced me to my side where I vomited again.\\n\\n“Jane,” Olivia said, scrambling to my side. “Jane, what happened?”\\n\\n“You’re not next, Olivia,” I said, my voice little more than a whisper. “I’m next.”\\n\\n\\\\--------\\n\\n[YT](https://www.youtube.com/watch?v=ps0IBOCut5o)\\n\\n[More](https://jamesworchester.com/)'"
      ]
     },
     "execution_count": 32,
     "metadata": {},
     "output_type": "execute_result"
    }
   ],
   "source": [
    "### Nosleep\n",
    "df_nosleep['selftext'][0]"
   ]
  },
  {
   "cell_type": "code",
   "execution_count": 33,
   "metadata": {},
   "outputs": [
    {
     "data": {
      "text/plain": [
       "' I am sharing this wherever I think would make sense .. So here goes.\\n\\nI have lived in my apartment for 3 years now and other than things falling randomly that I would usually blame on my cats I have never experienced anything paranormal. My boyfriend claims to see white lights at night in our bed room but i don\\'t know , I feel there is always a logical explanation for things.\\n\\nYesterday I felt particularly \"spooked\" in my apartment I felt like someone was behind me , like I felt a presence . But also I am a fat baby when it comes to these things so I never take myself seriously . Anyway this is where It gets weird. That night my phone rang I was expecting a call from my best friend. So I pick up and say hello. And what I heard was a doll like voice laughing and giggling . She has a 1  year old daughter who does not sound like that but I just assumed it was her , so i was like \"awww hi \" all the while being creeped the f out and wondering what her daughter who goes to bed at 8 was up at 12 am. Then it quickly cut to my friend and she was like \" Was that you ? what are you doing ? tell me you are joking with me .\" I felt the blood leave my face . I was like \" no what did you hear\" thinking she heard the same thing or maybe some static. She was in shock she told me she heard a demonic man voice say \"hellooooooooooooo\" clearly and then cut to me saying hello. We spent the next few minutes arguing as she thought I was joking with her and I thought she was joking with me (even though she is not the type of person to do something like that ) . We established that it could have just been a weird glitch or something and left it at that.\\n\\nI am so spooked from this lmao. Has anyone experienced something like this ? I never heard a sound like that in my life other than maybe in movies. I\\'m glad she heard something too because I feel like no one would have believed me .\\n\\nI don\\'t usually get static or anything on my cell phone . Neither of us were watching something on it before hand. And the sounds we heard were as clear as day.\\n\\nhelp me find a logical explanation.'"
      ]
     },
     "execution_count": 33,
     "metadata": {},
     "output_type": "execute_result"
    }
   ],
   "source": [
    "### TheTrueIsHere\n",
    "df_thetrueishere['selftext'][0]"
   ]
  },
  {
   "cell_type": "markdown",
   "metadata": {},
   "source": [
    "#### 4.3.3 Compile to single dataframe for pre-processing\n"
   ]
  },
  {
   "cell_type": "code",
   "execution_count": 34,
   "metadata": {},
   "outputs": [],
   "source": [
    "### create new colume 'post' that combine 'selftext' and 'title' for each subreddits\n",
    "df_nosleep['post'] = df_nosleep['selftext'] + ' ' + df_nosleep['title']\n",
    "df_thetrueishere['post'] = df_thetrueishere['selftext'] + ' ' + df_thetrueishere['title']"
   ]
  },
  {
   "cell_type": "code",
   "execution_count": 35,
   "metadata": {},
   "outputs": [],
   "source": [
    "### combine two subreddits into single df\n",
    "df = pd.concat([df_nosleep[['subreddit', 'post', 'post_words']], \n",
    "                df_thetrueishere[['subreddit', 'post', 'post_words']]], ignore_index = True)"
   ]
  },
  {
   "cell_type": "markdown",
   "metadata": {},
   "source": [
    "### Repeat the same for holdout set"
   ]
  },
  {
   "cell_type": "code",
   "execution_count": 36,
   "metadata": {},
   "outputs": [],
   "source": [
    "df_nosleep_holdout['post'] = df_nosleep_holdout['selftext'] + ' ' + df_nosleep_holdout['title']\n",
    "df_thetrueishere_holdout['post'] = df_thetrueishere_holdout['selftext'] + ' ' + df_thetrueishere_holdout['title']"
   ]
  },
  {
   "cell_type": "code",
   "execution_count": 37,
   "metadata": {},
   "outputs": [],
   "source": [
    "### combine two subreddits into single df\n",
    "df_holdout = pd.concat([df_nosleep_holdout[['subreddit', 'post',]], \n",
    "                df_thetrueishere_holdout[['subreddit', 'post',]]], ignore_index = True)"
   ]
  },
  {
   "cell_type": "markdown",
   "metadata": {},
   "source": [
    "## 5. Pre-processing"
   ]
  },
  {
   "cell_type": "markdown",
   "metadata": {},
   "source": [
    "### 5.1 Pre-processing on the post's content\n",
    "\n",
    "### 5.1.1 To clean the post's text by the following step:\n",
    "\n",
    "- remove html\n",
    "- remove non-letters\n",
    "- convert all text to lowercase,\n",
    "- stem or lemmatize each word of the text,\n",
    "- remove stopwords.\n",
    "\n",
    "Once completed, convert back to string text."
   ]
  },
  {
   "cell_type": "code",
   "execution_count": 38,
   "metadata": {},
   "outputs": [],
   "source": [
    "### Function to convert raw string of texgt to a string of words.\n",
    "##### The input is the string in df['post']\n",
    "##### The output is string text after the processed stated in above cell.\n",
    "\n",
    "# Instantiate object of class WordNetLemmatizer, this is used in function step 4.\n",
    "lemm = WordNetLemmatizer()\n",
    "\n",
    "def text_process(raw_post):\n",
    "    \n",
    "    # 1. Remove HTML \n",
    "    raw_post = BeautifulSoup(raw_post).get_text()  #remove html artefact (e.g remove <br>)\n",
    "    raw_post = re.sub(\"https://www.youtube.com\\/watch\\?v\\=[\\d][a-zA-Z]*\", \" \", raw_post) #remove html youtubelink\n",
    "    \n",
    "    # 2. Remove non-letters (find all none a-z and replace with empty space)\n",
    "    letters_only = re.sub(\"[^a-zA-Z]\", \" \", raw_post)\n",
    "    \n",
    "    #3. Convert all text to lowercase, then split them into single word\n",
    "    words = letters_only.lower().split()\n",
    "    \n",
    "    #4. Stem word using WordNetLemmatizer\n",
    "    lemmed_words = [lemm.lemmatize(i) for i in words]\n",
    "    \n",
    "    #5a. In python, searchignfor a set is much faster than searching for a list\n",
    "    # thus, convdert the stop words to a set\n",
    "    stops = set(stopwords.words('english'))\n",
    "    \n",
    "    #5b. Remove stop words\n",
    "    meaningful_words = [w for w in lemmed_words if not w in stops]\n",
    "    \n",
    "    #5c. Remove strange words: wa\n",
    "    meaningful_words = [w for w in meaningful_words if not w in 'wa']\n",
    "    \n",
    "    #6. Join the words back into one string separated by space,\n",
    "    # and return the cleaned words\n",
    "    return(\" \".join(meaningful_words))"
   ]
  },
  {
   "cell_type": "markdown",
   "metadata": {},
   "source": [
    "### 5.1.2 Use the function in 5.1.1 to clean the post's content"
   ]
  },
  {
   "cell_type": "code",
   "execution_count": 39,
   "metadata": {},
   "outputs": [
    {
     "name": "stdout",
     "output_type": "stream",
     "text": [
      "There are 1769 documents in the combined dataFrame, df\n"
     ]
    }
   ],
   "source": [
    "#### Get the number of documents based on the df's size\n",
    "df_total_data = len(df['post'])\n",
    "print(f'There are {df_total_data} documents in the combined dataFrame, df')\n",
    "\n",
    "# Initialize an empty list to hold the clean post\n",
    "clean_post_documents = []"
   ]
  },
  {
   "cell_type": "code",
   "execution_count": 40,
   "metadata": {},
   "outputs": [
    {
     "name": "stdout",
     "output_type": "stream",
     "text": [
      "Cleaning and parsing the post's content in df['post].\n",
      "Document 200 of 1769.\n",
      "Document 400 of 1769.\n",
      "Document 600 of 1769.\n",
      "Document 800 of 1769.\n",
      "Document 1000 of 1769.\n",
      "Document 1200 of 1769.\n",
      "Document 1400 of 1769.\n",
      "Document 1600 of 1769.\n"
     ]
    }
   ],
   "source": [
    "### Clean and parsing the post's content\n",
    "print(\"Cleaning and parsing the post's content in df['post].\")\n",
    "\n",
    "i = 0\n",
    "for post_content in df.post:\n",
    "    # convert post content to words, then append to clean_post_documents\n",
    "    clean_post_documents.append(text_process(post_content))\n",
    "    \n",
    "    # if the index is divisible by 200, print a message\n",
    "    if (i+1) % 200 == 0:\n",
    "        print(f'Document {i+1} of {df_total_data}.')\n",
    "    i += 1"
   ]
  },
  {
   "cell_type": "markdown",
   "metadata": {},
   "source": [
    "### Holdout set cleaning\n",
    "set to false so that the code didn't run. \n",
    "only use this whenever I want to clean newly scrap post"
   ]
  },
  {
   "cell_type": "code",
   "execution_count": 71,
   "metadata": {},
   "outputs": [],
   "source": [
    "to_clean = False"
   ]
  },
  {
   "cell_type": "code",
   "execution_count": 42,
   "metadata": {},
   "outputs": [
    {
     "name": "stdout",
     "output_type": "stream",
     "text": [
      "Cleaning and parsing the post's content in df['post].\n",
      "Document 50 of 150.\n",
      "Document 100 of 150.\n",
      "Document 150 of 150.\n"
     ]
    }
   ],
   "source": [
    "if to_clean:\n",
    "    # Initialize an empty list to hold the clean post\n",
    "    clean_post_holdout = []\n",
    "\n",
    "    ### Clean and parsing the post's content\n",
    "    print(\"Cleaning and parsing the post's content in df['post].\")\n",
    "\n",
    "    i = 0\n",
    "    for post_content in df_holdout.post:\n",
    "        # convert post content to words, then append to clean_post_documents\n",
    "        clean_post_holdout.append(text_process(post_content))\n",
    "    \n",
    "        # if the index is divisible by 50, print a message\n",
    "        df_total_data_ho = len(df_holdout['post'])\n",
    "        if (i+1) % 50 == 0:\n",
    "            print(f'Document {i+1} of {df_total_data_ho}.')\n",
    "        i += 1"
   ]
  },
  {
   "cell_type": "markdown",
   "metadata": {},
   "source": [
    "#### Quick view on the cleaned post\n",
    "check if those items identified in 5.1.1 is removed"
   ]
  },
  {
   "cell_type": "code",
   "execution_count": 43,
   "metadata": {},
   "outputs": [
    {
     "data": {
      "text/html": [
       "<div>\n",
       "<style scoped>\n",
       "    .dataframe tbody tr th:only-of-type {\n",
       "        vertical-align: middle;\n",
       "    }\n",
       "\n",
       "    .dataframe tbody tr th {\n",
       "        vertical-align: top;\n",
       "    }\n",
       "\n",
       "    .dataframe thead th {\n",
       "        text-align: right;\n",
       "    }\n",
       "</style>\n",
       "<table border=\"1\" class=\"dataframe\">\n",
       "  <thead>\n",
       "    <tr style=\"text-align: right;\">\n",
       "      <th></th>\n",
       "      <th>subreddit</th>\n",
       "      <th>post_words</th>\n",
       "      <th>cleaned_post</th>\n",
       "    </tr>\n",
       "  </thead>\n",
       "  <tbody>\n",
       "    <tr>\n",
       "      <th>0</th>\n",
       "      <td>nosleep</td>\n",
       "      <td>2134</td>\n",
       "      <td>half dozen police car crowded gravel driveway ...</td>\n",
       "    </tr>\n",
       "    <tr>\n",
       "      <th>1</th>\n",
       "      <td>nosleep</td>\n",
       "      <td>7329</td>\n",
       "      <td>part v http www reddit com r nosleep comment f...</td>\n",
       "    </tr>\n",
       "    <tr>\n",
       "      <th>2</th>\n",
       "      <td>nosleep</td>\n",
       "      <td>1743</td>\n",
       "      <td>people called brittle alexa different start du...</td>\n",
       "    </tr>\n",
       "    <tr>\n",
       "      <th>3</th>\n",
       "      <td>nosleep</td>\n",
       "      <td>2853</td>\n",
       "      <td>student teacher rawlings elementary two month ...</td>\n",
       "    </tr>\n",
       "    <tr>\n",
       "      <th>4</th>\n",
       "      <td>nosleep</td>\n",
       "      <td>2834</td>\n",
       "      <td>astronomy great hobby insomniac let face much ...</td>\n",
       "    </tr>\n",
       "  </tbody>\n",
       "</table>\n",
       "</div>"
      ],
      "text/plain": [
       "  subreddit  post_words                                       cleaned_post\n",
       "0   nosleep        2134  half dozen police car crowded gravel driveway ...\n",
       "1   nosleep        7329  part v http www reddit com r nosleep comment f...\n",
       "2   nosleep        1743  people called brittle alexa different start du...\n",
       "3   nosleep        2853  student teacher rawlings elementary two month ...\n",
       "4   nosleep        2834  astronomy great hobby insomniac let face much ..."
      ]
     },
     "execution_count": 43,
     "metadata": {},
     "output_type": "execute_result"
    }
   ],
   "source": [
    "### Replace the process's post (i.e. clean_post_documents) witht the original raw post (i.e. df['post'])\n",
    "df['cleaned_post'] = clean_post_documents\n",
    "df.drop(columns = ['post'], inplace = True)\n",
    "df.head()"
   ]
  },
  {
   "cell_type": "code",
   "execution_count": 44,
   "metadata": {},
   "outputs": [],
   "source": [
    "### Uncomment the last to rows if holdout dataset cleaning is done above.\n",
    "### Repeat the same for holdout dataset:\n",
    "\n",
    "#df_holdout['Cleaned_post'] = clean_post_holdout\n",
    "#df_holdout.drop(columns = ['post'], inplace = True)\n"
   ]
  },
  {
   "cell_type": "code",
   "execution_count": 45,
   "metadata": {},
   "outputs": [
    {
     "data": {
      "text/plain": [
       "'half dozen police car crowded gravel driveway headlight lighting row tree gnarled shadow threw wall farmhouse swayed gently breeze pulled hair back ponytail stepped line yellow police tape want accused contaminating evidence young officer eyed suspiciously approached house let pas front door knew found jack corpse upstairs bedroom blood self inflicted gunshot wound still wet sticky detective marston thin balding man stood corner room writing something notebook hello jane said stepped doorway surprised beat ignored comment squatting near jack body head missing thick iron scent hung air old man wore pair blue overall spackled blood piece paper poked chest pocket shot look shoulder detective marston mind asked guest pulled paper unfolded delicately word written shaky hand read keep getting closer keep coming closer took picture note phone handing detective read read time paused knew wanted ask even hated needed gotta kind explanation said marston need know guess working three month suicide finally managed win trust blow credibility guess would questioning sanity instead shot look hallway maybe said got question first mirror house broken assume like case yeah marston said anything show reflection either broken thrown found found body guessed next go decided drive check swung head sound crunching gravel car came stop front house headlight flicked girl stepped hand covering mouth looked around twenty year old shot questioning look marston olivia granddaughter said one left alive jack family called half hour ago stared eye hard going next shut eye rubbed forehead yeah probably marston cursed handed business card wrote anything else please let know took card grunt stuffing back pocket left room made way house driveway stopped front girl extended hand sorry loss said name jane private investigator working case olivia eye hardened take hand anything say reporter reporter paused gathering resolve come think going die like rest family eye widened whatever causing suicide spreading said spreading friend family victim first aunt cousin grandpa last one might already late possible help looked farmhouse shoulder suddenly looking might cry ok come paused another moment nodding walked car olivia said yeah look mirror car otherwise trust stared crazy saw serious agreed drove towards road gravel crunching tire first minute drive passed silence olivia took deep breath turned look gonna happen first tell know guess said running detail mind pattern victim according friend family victim start showing erratic paranoid behavior grandpa jack olivia said ever since found aunt body nodded paranoid behavior always followed breaking covering reflective surface suicide come next next victim usually close friend family member typically household begin show paranoid symptom commit suicide soon psychosis spread know said guess swallowed hard think work serial killer method suicide different know drug poison cause specific kind psychosis victim ranging teenager retiree shook head probably dismissed possibility long time ago serial killer said trailing reached apartment paused park walk flight stair door locking deadbolt behind u good asked walked home office pulled folder followed nearly thirty death past three month left suicide note pulled picture taken crime scene suicide note short disjointed confusing handed one time saw reflected marge eye even eye safe sleep watching finger finger rearview mirror today almost touching olivia continued flip suicide note expression growing disturbed finally pulled phone showed note grandfather written keep getting closer keep coming closer grandpa olivia asked voice choked yes like said think next said stared horror every victim broke mirror several mention reflection suicide note mean best avoid cover one hanging bathroom also give phone black screen ha reflection want take chance nodded numbly took bathroom mirror set corner living room covering blanket sleep couch talk tomorrow hard sleep night mind flooded image brutal suicide investigated past month olivia rare opportunity control victim psychosis set maybe could save maybe next morning woke found olivia sitting couch staring space head swiveled afraid see violence fear eye instead saw intensity need look mirror said asked whatever others saw enough basically break mind could kill need know cover see almost rejected idea curiosity got better would see something reflection behind one exposure enough kill ok said bringing still covered mirror corner grabbed corner slowly lifted blanket watching olivia face reaction stared mirror intently blanket pulled away shook head looked see anything really asked mind racing maybe jumped neighbor instead maybe jack bowling friend something maybe phone rang chirp making jump looked display detective marston detective said new information see said voice trembling asked face suddenly cold broke mirror see anymore still reflected shard jane jane please help said guess tell oh god thought look bathroom see oh god even phone ha voice cut sound phone hitting floor marston shouted marston coming hung turned olivia wrong said detective might still time ran car surprised olivia running step behind sped across town olivia dialing police snaked several windy country road reached marston house told olivia stay car ran step front door unlocked marston lay inside bath blood spattered white tile piece shattered mirror hung limply one hand taken neck looked away best choke vomit rose throat gasped eye flicking open even know said voice raspy gurgling found body trailed blood choking word head slumped forward drop flicking nose leaned wall bathroom trying control breathing gruesome thing ever seen slowly looked left medicine cabinet still hung wall mirror shattered center long crack surrounding central point saw reflected two dozen time individual shard thought back case victim family member friend neighbor close victim found victim body looked marston lifeless body looked back mirror mirror swung changing view view kitchen figure stood reflected two dozen time shard impossible get good view due damage creature eye sunken deep skull hand long gnarled finger staring thought marston body worst thing ever seen far far worse slammed palm eye broken image creature burning brain like hot iron vomited onto tile running front door hand still clamped firmly onto face foot hit top step twisted fell rest tangled heap blood oozed scrape elbow knee forehead remove hand eye lay grass warm sun face wished nothing claw eye thing following doubt doubt getting closer thought seeing forced side vomited jane olivia said scrambling side jane happened next olivia said voice little whisper next yt http www youtube com watch v p ibocut http jamesworchester com string suicide town victim always break mirror first'"
      ]
     },
     "execution_count": 45,
     "metadata": {},
     "output_type": "execute_result"
    }
   ],
   "source": [
    "### check the 1st post\n",
    "# quick peep and those items were removed (html, stopwords, and all change to lower case, punctuation & etc)\n",
    "\n",
    "df['cleaned_post'][0]"
   ]
  },
  {
   "cell_type": "markdown",
   "metadata": {},
   "source": [
    "### 5.1.3 Features and y-target preparation"
   ]
  },
  {
   "cell_type": "code",
   "execution_count": 46,
   "metadata": {},
   "outputs": [],
   "source": [
    "### Convert y-target, that is df['subreddit'] to binary number by\n",
    "### 'nosleep' == 1, & 'thetruthishere' == 0\n",
    "df['subreddit'] = df['subreddit'].map({'nosleep': 1, 'Thetruthishere':0})"
   ]
  },
  {
   "cell_type": "code",
   "execution_count": 47,
   "metadata": {},
   "outputs": [],
   "source": [
    "### Export cleaned post to csv:\n",
    "df.to_csv('../datasets/subreddits_cleaned.csv', index = False)"
   ]
  },
  {
   "cell_type": "code",
   "execution_count": 48,
   "metadata": {},
   "outputs": [],
   "source": [
    "### Setup X-features & y-target (both in dataFrame format)\n",
    "X = df[['cleaned_post', 'post_words']]\n",
    "y = df[['subreddit']]"
   ]
  },
  {
   "cell_type": "markdown",
   "metadata": {},
   "source": [
    "#### Repeat the same for holdout set\n",
    "\n",
    "**uncomment** it so that the code didn't run. \n",
    "only remove the `#` if want to do the cleaning on dataset"
   ]
  },
  {
   "cell_type": "code",
   "execution_count": 49,
   "metadata": {},
   "outputs": [],
   "source": [
    "#df_holdout['subreddit'] = df_holdout['subreddit'].map({'nosleep': 1, 'Thetruthishere':0})"
   ]
  },
  {
   "cell_type": "code",
   "execution_count": 50,
   "metadata": {},
   "outputs": [],
   "source": [
    "### Export cleaned post to csv:\n",
    "#df_holdout.to_csv('../datasets/subredditsholdout_cleaned.csv', index = False)"
   ]
  },
  {
   "cell_type": "markdown",
   "metadata": {},
   "source": [
    "### 5.1.4 Baseline Accuracy\n",
    "We need to calculate baseline accuracy in order to tell if our model is outperforming the null model (predicting the majority class). \n",
    "\n",
    "**The calculated baseline accuracy is 0.529678 (52.97%)**"
   ]
  },
  {
   "cell_type": "code",
   "execution_count": 51,
   "metadata": {},
   "outputs": [
    {
     "data": {
      "text/plain": [
       "0    0.529678\n",
       "1    0.470322\n",
       "Name: subreddit, dtype: float64"
      ]
     },
     "execution_count": 51,
     "metadata": {},
     "output_type": "execute_result"
    }
   ],
   "source": [
    "y['subreddit'].value_counts(normalize=True)"
   ]
  },
  {
   "cell_type": "markdown",
   "metadata": {},
   "source": [
    "### 5.1.5 Train/Test Split\n",
    "Use the train_test_split function to split the data into a training set and a holdout test set."
   ]
  },
  {
   "cell_type": "code",
   "execution_count": 52,
   "metadata": {},
   "outputs": [],
   "source": [
    "X_train, X_test, y_train, y_test = train_test_split(X, y['subreddit'], test_size = 0.3, shuffle = True,\n",
    "                                                    stratify=y, random_state=42)"
   ]
  },
  {
   "cell_type": "code",
   "execution_count": 53,
   "metadata": {},
   "outputs": [],
   "source": [
    "### Export X_train, X_test, y_train, y_test to csv for modeling in next notebook\n",
    "X_train.to_csv('../datasets/X_train.csv', index=True)\n",
    "X_test.to_csv('../datasets/X_test.csv', index=True)\n",
    "y_train.to_csv('../datasets/y_train.csv', index=True)\n",
    "y_test.to_csv('../datasets/y_test.csv', index=True)"
   ]
  },
  {
   "cell_type": "markdown",
   "metadata": {},
   "source": [
    "### 5.2 EDA of X_train word features \n",
    "\n",
    "Prior to modeling, it will be interesting to know the word features that will be transform by vectorizer on the  cleaned_post.\n",
    "Thus, I use CountVectorizer & TfidfVectorizer to transforms the word features to get a sense of it prior to modeling.\n"
   ]
  },
  {
   "cell_type": "markdown",
   "metadata": {},
   "source": [
    "### 5.2.1 CountVectorizer"
   ]
  },
  {
   "cell_type": "code",
   "execution_count": 54,
   "metadata": {},
   "outputs": [
    {
     "data": {
      "text/plain": [
       "(1238, 25730)"
      ]
     },
     "execution_count": 54,
     "metadata": {},
     "output_type": "execute_result"
    }
   ],
   "source": [
    "cvec_naive = CountVectorizer(stop_words = 'english')\n",
    "\n",
    "# fit & transform\n",
    "X_train_cvec_naive = cvec_naive.fit_transform(X_train['cleaned_post']).todense()\n",
    "# convert results to DataFrame\n",
    "X_train_cvec_naive_df = pd.DataFrame(X_train_cvec_naive, \n",
    "                                     columns = cvec_naive.get_feature_names())\n",
    "\n",
    "# count the features word: there are 25730 words\n",
    "X_train_cvec_naive_df.shape"
   ]
  },
  {
   "cell_type": "markdown",
   "metadata": {},
   "source": [
    "#### CountVectorizer: Most frequency words in corpus"
   ]
  },
  {
   "cell_type": "code",
   "execution_count": 55,
   "metadata": {},
   "outputs": [
    {
     "data": {
      "text/plain": [
       "like       5926.0\n",
       "time       4269.0\n",
       "know       3443.0\n",
       "said       3155.0\n",
       "thing      3029.0\n",
       "            ...  \n",
       "focs          1.0\n",
       "focal         1.0\n",
       "fob           1.0\n",
       "foamed        1.0\n",
       "eoither       1.0\n",
       "Name: Total, Length: 25730, dtype: float64"
      ]
     },
     "execution_count": 55,
     "metadata": {},
     "output_type": "execute_result"
    }
   ],
   "source": [
    "### Calculate the frequency of each word appear in the corpus, by adding a 'Total' row\n",
    "### at the end of the dataframe:\n",
    "\n",
    "X_train_cvec_naive_df.loc['Total', :] = X_train_cvec_naive_df.sum(axis = 0)\n",
    "X_train_cvec_naive_df.loc['Total', :].sort_values(ascending = False)"
   ]
  },
  {
   "cell_type": "markdown",
   "metadata": {},
   "source": [
    "- Create another DataFrame for the above Total Word Count (frequency per feature word)\n"
   ]
  },
  {
   "cell_type": "code",
   "execution_count": 56,
   "metadata": {},
   "outputs": [
    {
     "data": {
      "text/html": [
       "<div>\n",
       "<style scoped>\n",
       "    .dataframe tbody tr th:only-of-type {\n",
       "        vertical-align: middle;\n",
       "    }\n",
       "\n",
       "    .dataframe tbody tr th {\n",
       "        vertical-align: top;\n",
       "    }\n",
       "\n",
       "    .dataframe thead th {\n",
       "        text-align: right;\n",
       "    }\n",
       "</style>\n",
       "<table border=\"1\" class=\"dataframe\">\n",
       "  <thead>\n",
       "    <tr style=\"text-align: right;\">\n",
       "      <th></th>\n",
       "      <th>Total</th>\n",
       "    </tr>\n",
       "  </thead>\n",
       "  <tbody>\n",
       "    <tr>\n",
       "      <th>like</th>\n",
       "      <td>5926.0</td>\n",
       "    </tr>\n",
       "    <tr>\n",
       "      <th>time</th>\n",
       "      <td>4269.0</td>\n",
       "    </tr>\n",
       "    <tr>\n",
       "      <th>know</th>\n",
       "      <td>3443.0</td>\n",
       "    </tr>\n",
       "    <tr>\n",
       "      <th>said</th>\n",
       "      <td>3155.0</td>\n",
       "    </tr>\n",
       "    <tr>\n",
       "      <th>thing</th>\n",
       "      <td>3029.0</td>\n",
       "    </tr>\n",
       "  </tbody>\n",
       "</table>\n",
       "</div>"
      ],
      "text/plain": [
       "        Total\n",
       "like   5926.0\n",
       "time   4269.0\n",
       "know   3443.0\n",
       "said   3155.0\n",
       "thing  3029.0"
      ]
     },
     "execution_count": 56,
     "metadata": {},
     "output_type": "execute_result"
    }
   ],
   "source": [
    "X_train_total_cvec_naive = pd.DataFrame(X_train_cvec_naive_df.loc['Total', :].sort_values(ascending=False))\n",
    "X_train_total_cvec_naive.head()"
   ]
  },
  {
   "cell_type": "markdown",
   "metadata": {},
   "source": [
    "- Check for each specified frequency (2, 10, 50, etc), what is the associated number of features (words) that appear in the corpus."
   ]
  },
  {
   "cell_type": "code",
   "execution_count": 57,
   "metadata": {},
   "outputs": [
    {
     "name": "stdout",
     "output_type": "stream",
     "text": [
      "number of word with frequency >= 2:\n",
      "16913\n",
      "number of word with frequency >= 10:\n",
      "6428\n",
      "number of word with frequency >= 50:\n",
      "1998\n",
      "number of word with frequency >= 100:\n",
      "1083\n",
      "number of word with frequency >= 500:\n",
      "188\n",
      "number of word with frequency >= 1000:\n",
      "65\n",
      "number of word with frequency >= 2000:\n",
      "12\n",
      "number of word with frequency >= 5000:\n",
      "1\n"
     ]
    }
   ],
   "source": [
    "for i in [2,10,50,100,500,1000,2000,5000]:\n",
    "    print(f'number of word with frequency >= {i}:')\n",
    "    print(len(X_train_total_cvec_naive.loc[X_train_total_cvec_naive['Total']>=i]))\n",
    "   "
   ]
  },
  {
   "cell_type": "code",
   "execution_count": 58,
   "metadata": {},
   "outputs": [],
   "source": [
    "### Define function to plot horizontal bar graph:\n",
    "def horiz_bar (df, xlabel, ylabel, title):\n",
    "    df.plot(kind = 'barh', figsize = (10,8));\n",
    "    \n",
    "    plt.ylabel(ylabel, fontsize = 14);\n",
    "    plt.xlabel(xlabel, fontsize = 14);\n",
    "    plt.title(title, fontsize = 18);"
   ]
  },
  {
   "cell_type": "code",
   "execution_count": 59,
   "metadata": {},
   "outputs": [
    {
     "data": {
      "image/png": "[encoded data removed]",
      "text/plain": [
       "<Figure size 720x576 with 1 Axes>"
      ]
     },
     "metadata": {
      "needs_background": "light"
     },
     "output_type": "display_data"
    }
   ],
   "source": [
    "## Plot bar graph to view the most frequent words, select those appeared at least 1800 times in Corpus\n",
    "\n",
    "horiz_bar(X_train_total_cvec_naive[X_train_total_cvec_naive.Total > 1800],\n",
    "         'word count', 'word', 'Top most frequency word, using CountVectorizer')\n",
    "\n",
    "plt.legend(['Total count in corpus'], fontsize = 14);"
   ]
  },
  {
   "cell_type": "markdown",
   "metadata": {},
   "source": [
    "- There are total of 25730 feature words generated from CountVectorizer.\n",
    "- 6428 words appeared >= 10 times in corpus.\n",
    "- 1998 words appeared >= 50 times in corpus.\n",
    "- 1083 words appeared >= 100 times in corpus.\n",
    "\n",
    "It would be good to explore the the max_features of 1000, 2000 & 6000 (where the feature word appeared at least 10 times and above). Use GridSearchCV to tune the hyperparameters to optimize the model in the next notebook.\n"
   ]
  },
  {
   "cell_type": "markdown",
   "metadata": {},
   "source": [
    "#### EDA: Most frequent words per subreddit\n",
    "- Select the top 20 words appeared in corpus.\n",
    "- All of the top 20 words appeared to be the frequent word in 'Nosleep' subreddit"
   ]
  },
  {
   "cell_type": "code",
   "execution_count": 60,
   "metadata": {},
   "outputs": [
    {
     "name": "stderr",
     "output_type": "stream",
     "text": [
      "/opt/anaconda3/lib/python3.7/site-packages/ipykernel_launcher.py:9: SettingWithCopyWarning: \n",
      "A value is trying to be set on a copy of a slice from a DataFrame.\n",
      "Try using .loc[row_indexer,col_indexer] = value instead\n",
      "\n",
      "See the caveats in the documentation: https://pandas.pydata.org/pandas-docs/stable/user_guide/indexing.html#returning-a-view-versus-a-copy\n",
      "  if __name__ == '__main__':\n"
     ]
    }
   ],
   "source": [
    "n_words = 20\n",
    "# list out the top most frequent 20 words in corpus\n",
    "words = X_train_total_cvec_naive[:n_words].index\n",
    "\n",
    "# create another dataframe, excluding the last row (i.e. 'Total', created previously)\n",
    "df_subreddit = X_train_cvec_naive_df[:-1]\n",
    "\n",
    "# create another columns by adding the y-target( i.e. which subreddit in each document)\n",
    "df_subreddit['subreddit'] = y_train.values\n",
    "\n",
    "# calculate the sum of words appeared in corpus per subreddit, on the most 20 frequent word\n",
    "df_subreddit = df_subreddit.groupby('subreddit').sum()[words]"
   ]
  },
  {
   "cell_type": "code",
   "execution_count": 61,
   "metadata": {},
   "outputs": [
    {
     "data": {
      "text/html": [
       "<div>\n",
       "<style scoped>\n",
       "    .dataframe tbody tr th:only-of-type {\n",
       "        vertical-align: middle;\n",
       "    }\n",
       "\n",
       "    .dataframe tbody tr th {\n",
       "        vertical-align: top;\n",
       "    }\n",
       "\n",
       "    .dataframe thead th {\n",
       "        text-align: right;\n",
       "    }\n",
       "</style>\n",
       "<table border=\"1\" class=\"dataframe\">\n",
       "  <thead>\n",
       "    <tr style=\"text-align: right;\">\n",
       "      <th></th>\n",
       "      <th>like</th>\n",
       "      <th>time</th>\n",
       "      <th>know</th>\n",
       "      <th>said</th>\n",
       "      <th>thing</th>\n",
       "      <th>eye</th>\n",
       "      <th>door</th>\n",
       "      <th>room</th>\n",
       "      <th>looked</th>\n",
       "      <th>day</th>\n",
       "      <th>way</th>\n",
       "      <th>got</th>\n",
       "      <th>house</th>\n",
       "      <th>saw</th>\n",
       "      <th>think</th>\n",
       "      <th>hand</th>\n",
       "      <th>night</th>\n",
       "      <th>man</th>\n",
       "      <th>going</th>\n",
       "      <th>away</th>\n",
       "    </tr>\n",
       "    <tr>\n",
       "      <th>subreddit</th>\n",
       "      <th></th>\n",
       "      <th></th>\n",
       "      <th></th>\n",
       "      <th></th>\n",
       "      <th></th>\n",
       "      <th></th>\n",
       "      <th></th>\n",
       "      <th></th>\n",
       "      <th></th>\n",
       "      <th></th>\n",
       "      <th></th>\n",
       "      <th></th>\n",
       "      <th></th>\n",
       "      <th></th>\n",
       "      <th></th>\n",
       "      <th></th>\n",
       "      <th></th>\n",
       "      <th></th>\n",
       "      <th></th>\n",
       "      <th></th>\n",
       "    </tr>\n",
       "  </thead>\n",
       "  <tbody>\n",
       "    <tr>\n",
       "      <th>0</th>\n",
       "      <td>1361.0</td>\n",
       "      <td>895.0</td>\n",
       "      <td>648.0</td>\n",
       "      <td>467.0</td>\n",
       "      <td>730.0</td>\n",
       "      <td>277.0</td>\n",
       "      <td>446.0</td>\n",
       "      <td>599.0</td>\n",
       "      <td>345.0</td>\n",
       "      <td>477.0</td>\n",
       "      <td>321.0</td>\n",
       "      <td>427.0</td>\n",
       "      <td>707.0</td>\n",
       "      <td>433.0</td>\n",
       "      <td>398.0</td>\n",
       "      <td>111.0</td>\n",
       "      <td>594.0</td>\n",
       "      <td>210.0</td>\n",
       "      <td>322.0</td>\n",
       "      <td>306.0</td>\n",
       "    </tr>\n",
       "    <tr>\n",
       "      <th>1</th>\n",
       "      <td>4565.0</td>\n",
       "      <td>3374.0</td>\n",
       "      <td>2795.0</td>\n",
       "      <td>2688.0</td>\n",
       "      <td>2299.0</td>\n",
       "      <td>2560.0</td>\n",
       "      <td>2275.0</td>\n",
       "      <td>2034.0</td>\n",
       "      <td>2186.0</td>\n",
       "      <td>1795.0</td>\n",
       "      <td>1873.0</td>\n",
       "      <td>1755.0</td>\n",
       "      <td>1206.0</td>\n",
       "      <td>1465.0</td>\n",
       "      <td>1494.0</td>\n",
       "      <td>1780.0</td>\n",
       "      <td>1272.0</td>\n",
       "      <td>1651.0</td>\n",
       "      <td>1535.0</td>\n",
       "      <td>1524.0</td>\n",
       "    </tr>\n",
       "  </tbody>\n",
       "</table>\n",
       "</div>"
      ],
      "text/plain": [
       "             like    time    know    said   thing     eye    door    room  \\\n",
       "subreddit                                                                   \n",
       "0          1361.0   895.0   648.0   467.0   730.0   277.0   446.0   599.0   \n",
       "1          4565.0  3374.0  2795.0  2688.0  2299.0  2560.0  2275.0  2034.0   \n",
       "\n",
       "           looked     day     way     got   house     saw   think    hand  \\\n",
       "subreddit                                                                   \n",
       "0           345.0   477.0   321.0   427.0   707.0   433.0   398.0   111.0   \n",
       "1          2186.0  1795.0  1873.0  1755.0  1206.0  1465.0  1494.0  1780.0   \n",
       "\n",
       "            night     man   going    away  \n",
       "subreddit                                  \n",
       "0           594.0   210.0   322.0   306.0  \n",
       "1          1272.0  1651.0  1535.0  1524.0  "
      ]
     },
     "execution_count": 61,
     "metadata": {},
     "output_type": "execute_result"
    }
   ],
   "source": [
    "df_subreddit.head()"
   ]
  },
  {
   "cell_type": "code",
   "execution_count": 62,
   "metadata": {
    "scrolled": true
   },
   "outputs": [
    {
     "data": {
      "image/png": "[encoded data removed]",
      "text/plain": [
       "<Figure size 720x576 with 1 Axes>"
      ]
     },
     "metadata": {
      "needs_background": "light"
     },
     "output_type": "display_data"
    }
   ],
   "source": [
    "## Plot bar graph to view the top 20 most frequent words appeared in Corpus\n",
    "horiz_bar (df_subreddit.transpose(), 'word count', 'word', 'Most frequent word')\n",
    "\n",
    "plt.legend(['Thetruthishere', 'Nosleep'], fontsize = 14);\n"
   ]
  },
  {
   "cell_type": "markdown",
   "metadata": {},
   "source": [
    "### 5.2.2 TfidfVectorizer"
   ]
  },
  {
   "cell_type": "code",
   "execution_count": 63,
   "metadata": {},
   "outputs": [
    {
     "data": {
      "text/plain": [
       "(1238, 25730)"
      ]
     },
     "execution_count": 63,
     "metadata": {},
     "output_type": "execute_result"
    }
   ],
   "source": [
    "tvec_naive = TfidfVectorizer(stop_words = 'english')\n",
    "\n",
    "# fit & transform\n",
    "X_train_tvec_naive = tvec_naive.fit_transform(X_train['cleaned_post']).todense()\n",
    "# convert results to DataFrame\n",
    "X_train_tvec_naive_df = pd.DataFrame(X_train_tvec_naive, \n",
    "                                     columns = tvec_naive.get_feature_names())\n",
    "\n",
    "# count the features word: there are 25730 words (same as CountVectorizer)\n",
    "X_train_tvec_naive_df.shape"
   ]
  },
  {
   "cell_type": "markdown",
   "metadata": {},
   "source": [
    "#### TfidfVectorizer: Word with top tfidf score in corpus"
   ]
  },
  {
   "cell_type": "code",
   "execution_count": 64,
   "metadata": {},
   "outputs": [
    {
     "data": {
      "text/plain": [
       "like             0.044467\n",
       "time             0.033998\n",
       "know             0.029204\n",
       "room             0.028495\n",
       "house            0.027667\n",
       "                   ...   \n",
       "incapacitated    0.000005\n",
       "inaccessible     0.000005\n",
       "underprepared    0.000005\n",
       "forlornly        0.000005\n",
       "glitched         0.000005\n",
       "Name: Mean, Length: 25730, dtype: float64"
      ]
     },
     "execution_count": 64,
     "metadata": {},
     "output_type": "execute_result"
    }
   ],
   "source": [
    "### Sum the tfidf score for each word (i.e. per column) to get view what are the words with top highest \n",
    "### tfidf score, by adding a 'Total' row at the end of the dataframe:\n",
    "\n",
    "X_train_tvec_naive_df.loc['Mean', :] = X_train_tvec_naive_df.mean(axis = 0)\n",
    "X_train_tvec_naive_df.loc['Mean', :].sort_values(ascending = False)"
   ]
  },
  {
   "cell_type": "markdown",
   "metadata": {},
   "source": [
    "**Create another DataFrame for the above mean tfidf score (score per feature word)**\n",
    "\n",
    "Both TfidfVectorizer and CountVectorizer resulted in the same top 3 most frequency word / highly score word.\n"
   ]
  },
  {
   "cell_type": "code",
   "execution_count": 65,
   "metadata": {},
   "outputs": [
    {
     "data": {
      "text/html": [
       "<div>\n",
       "<style scoped>\n",
       "    .dataframe tbody tr th:only-of-type {\n",
       "        vertical-align: middle;\n",
       "    }\n",
       "\n",
       "    .dataframe tbody tr th {\n",
       "        vertical-align: top;\n",
       "    }\n",
       "\n",
       "    .dataframe thead th {\n",
       "        text-align: right;\n",
       "    }\n",
       "</style>\n",
       "<table border=\"1\" class=\"dataframe\">\n",
       "  <thead>\n",
       "    <tr style=\"text-align: right;\">\n",
       "      <th></th>\n",
       "      <th>Mean</th>\n",
       "    </tr>\n",
       "  </thead>\n",
       "  <tbody>\n",
       "    <tr>\n",
       "      <th>like</th>\n",
       "      <td>0.044467</td>\n",
       "    </tr>\n",
       "    <tr>\n",
       "      <th>time</th>\n",
       "      <td>0.033998</td>\n",
       "    </tr>\n",
       "    <tr>\n",
       "      <th>know</th>\n",
       "      <td>0.029204</td>\n",
       "    </tr>\n",
       "    <tr>\n",
       "      <th>room</th>\n",
       "      <td>0.028495</td>\n",
       "    </tr>\n",
       "    <tr>\n",
       "      <th>house</th>\n",
       "      <td>0.027667</td>\n",
       "    </tr>\n",
       "  </tbody>\n",
       "</table>\n",
       "</div>"
      ],
      "text/plain": [
       "           Mean\n",
       "like   0.044467\n",
       "time   0.033998\n",
       "know   0.029204\n",
       "room   0.028495\n",
       "house  0.027667"
      ]
     },
     "execution_count": 65,
     "metadata": {},
     "output_type": "execute_result"
    }
   ],
   "source": [
    "X_train_total_tvec_naive = pd.DataFrame(X_train_tvec_naive_df.loc['Mean', :].sort_values(ascending=False))\n",
    "X_train_total_tvec_naive.head()"
   ]
  },
  {
   "cell_type": "markdown",
   "metadata": {},
   "source": [
    "- Check for each specified sum of tfidf score (0.0001,0.01,0.02, 0.04, etc), what is the associated number of features (words) that appear in the corpus."
   ]
  },
  {
   "cell_type": "code",
   "execution_count": 66,
   "metadata": {},
   "outputs": [
    {
     "name": "stdout",
     "output_type": "stream",
     "text": [
      "number of word with total tfidf score >= 0.0001:\n",
      "12256\n",
      "number of word with total tfidf score >= 0.01:\n",
      "98\n",
      "number of word with total tfidf score >= 0.02:\n",
      "17\n",
      "number of word with total tfidf score >= 0.04:\n",
      "1\n"
     ]
    }
   ],
   "source": [
    "for i in [0.0001,0.01,0.02, 0.04]:\n",
    "    print(f'number of word with total tfidf score >= {i}:')\n",
    "    print(len(X_train_total_tvec_naive.loc[X_train_total_tvec_naive['Mean']>=i]))\n",
    "   "
   ]
  },
  {
   "cell_type": "code",
   "execution_count": 67,
   "metadata": {},
   "outputs": [
    {
     "data": {
      "image/png": "[encoded data removed]",
      "text/plain": [
       "<Figure size 720x576 with 1 Axes>"
      ]
     },
     "metadata": {
      "needs_background": "light"
     },
     "output_type": "display_data"
    }
   ],
   "source": [
    "## Plot bar graph to view the word with top tfidf score in the corpus\n",
    "\n",
    "horiz_bar(X_train_total_tvec_naive[X_train_total_tvec_naive.Mean > 0.02],\n",
    "         'tfidf mean score', 'word', 'Top most high score word, using TfidfVectorizer')\n",
    "\n",
    "plt.legend(['Total tfidf in corpus'], fontsize = 14);"
   ]
  },
  {
   "cell_type": "code",
   "execution_count": 68,
   "metadata": {},
   "outputs": [
    {
     "name": "stderr",
     "output_type": "stream",
     "text": [
      "/opt/anaconda3/lib/python3.7/site-packages/ipykernel_launcher.py:9: SettingWithCopyWarning: \n",
      "A value is trying to be set on a copy of a slice from a DataFrame.\n",
      "Try using .loc[row_indexer,col_indexer] = value instead\n",
      "\n",
      "See the caveats in the documentation: https://pandas.pydata.org/pandas-docs/stable/user_guide/indexing.html#returning-a-view-versus-a-copy\n",
      "  if __name__ == '__main__':\n"
     ]
    }
   ],
   "source": [
    "score_words = 25\n",
    "# list out the top score words in corpus\n",
    "words_tvec = X_train_total_tvec_naive[:score_words].index\n",
    "\n",
    "# create another dataframe, excluding the last row (i.e. 'Mean', created previously)\n",
    "df_subreddit_tvec = X_train_tvec_naive_df[:-1]\n",
    "\n",
    "# create another columns by adding the y-target( i.e. which subreddit in each document)\n",
    "df_subreddit_tvec['subreddit'] = y_train.values\n",
    "\n",
    "# calculate the mean of words appeared in corpus per subreddit, on the top score words \n",
    "# (i.e. top 25 words)\n",
    "df_subreddit_tvec = df_subreddit_tvec.groupby('subreddit').mean()[words_tvec]"
   ]
  },
  {
   "cell_type": "code",
   "execution_count": 69,
   "metadata": {},
   "outputs": [
    {
     "data": {
      "text/html": [
       "<div>\n",
       "<style scoped>\n",
       "    .dataframe tbody tr th:only-of-type {\n",
       "        vertical-align: middle;\n",
       "    }\n",
       "\n",
       "    .dataframe tbody tr th {\n",
       "        vertical-align: top;\n",
       "    }\n",
       "\n",
       "    .dataframe thead th {\n",
       "        text-align: right;\n",
       "    }\n",
       "</style>\n",
       "<table border=\"1\" class=\"dataframe\">\n",
       "  <thead>\n",
       "    <tr style=\"text-align: right;\">\n",
       "      <th></th>\n",
       "      <th>like</th>\n",
       "      <th>time</th>\n",
       "      <th>know</th>\n",
       "      <th>room</th>\n",
       "      <th>house</th>\n",
       "      <th>thing</th>\n",
       "      <th>door</th>\n",
       "      <th>said</th>\n",
       "      <th>eye</th>\n",
       "      <th>dream</th>\n",
       "      <th>night</th>\n",
       "      <th>day</th>\n",
       "      <th>looked</th>\n",
       "      <th>year</th>\n",
       "      <th>saw</th>\n",
       "      <th>got</th>\n",
       "      <th>people</th>\n",
       "      <th>think</th>\n",
       "      <th>went</th>\n",
       "      <th>felt</th>\n",
       "      <th>way</th>\n",
       "      <th>man</th>\n",
       "      <th>told</th>\n",
       "      <th>ha</th>\n",
       "      <th>friend</th>\n",
       "    </tr>\n",
       "    <tr>\n",
       "      <th>subreddit</th>\n",
       "      <th></th>\n",
       "      <th></th>\n",
       "      <th></th>\n",
       "      <th></th>\n",
       "      <th></th>\n",
       "      <th></th>\n",
       "      <th></th>\n",
       "      <th></th>\n",
       "      <th></th>\n",
       "      <th></th>\n",
       "      <th></th>\n",
       "      <th></th>\n",
       "      <th></th>\n",
       "      <th></th>\n",
       "      <th></th>\n",
       "      <th></th>\n",
       "      <th></th>\n",
       "      <th></th>\n",
       "      <th></th>\n",
       "      <th></th>\n",
       "      <th></th>\n",
       "      <th></th>\n",
       "      <th></th>\n",
       "      <th></th>\n",
       "      <th></th>\n",
       "    </tr>\n",
       "  </thead>\n",
       "  <tbody>\n",
       "    <tr>\n",
       "      <th>0</th>\n",
       "      <td>0.042395</td>\n",
       "      <td>0.029669</td>\n",
       "      <td>0.023915</td>\n",
       "      <td>0.025346</td>\n",
       "      <td>0.032114</td>\n",
       "      <td>0.025589</td>\n",
       "      <td>0.018714</td>\n",
       "      <td>0.016654</td>\n",
       "      <td>0.012460</td>\n",
       "      <td>0.032663</td>\n",
       "      <td>0.025593</td>\n",
       "      <td>0.018851</td>\n",
       "      <td>0.014317</td>\n",
       "      <td>0.023370</td>\n",
       "      <td>0.019884</td>\n",
       "      <td>0.016595</td>\n",
       "      <td>0.018710</td>\n",
       "      <td>0.018253</td>\n",
       "      <td>0.017358</td>\n",
       "      <td>0.015464</td>\n",
       "      <td>0.012820</td>\n",
       "      <td>0.009987</td>\n",
       "      <td>0.016296</td>\n",
       "      <td>0.019490</td>\n",
       "      <td>0.020523</td>\n",
       "    </tr>\n",
       "    <tr>\n",
       "      <th>1</th>\n",
       "      <td>0.046803</td>\n",
       "      <td>0.038877</td>\n",
       "      <td>0.035164</td>\n",
       "      <td>0.032045</td>\n",
       "      <td>0.022656</td>\n",
       "      <td>0.028663</td>\n",
       "      <td>0.036008</td>\n",
       "      <td>0.033051</td>\n",
       "      <td>0.035416</td>\n",
       "      <td>0.012135</td>\n",
       "      <td>0.019824</td>\n",
       "      <td>0.025969</td>\n",
       "      <td>0.028208</td>\n",
       "      <td>0.017876</td>\n",
       "      <td>0.021090</td>\n",
       "      <td>0.024517</td>\n",
       "      <td>0.022061</td>\n",
       "      <td>0.020665</td>\n",
       "      <td>0.020591</td>\n",
       "      <td>0.021842</td>\n",
       "      <td>0.024779</td>\n",
       "      <td>0.027472</td>\n",
       "      <td>0.019148</td>\n",
       "      <td>0.015407</td>\n",
       "      <td>0.013996</td>\n",
       "    </tr>\n",
       "  </tbody>\n",
       "</table>\n",
       "</div>"
      ],
      "text/plain": [
       "               like      time      know      room     house     thing  \\\n",
       "subreddit                                                               \n",
       "0          0.042395  0.029669  0.023915  0.025346  0.032114  0.025589   \n",
       "1          0.046803  0.038877  0.035164  0.032045  0.022656  0.028663   \n",
       "\n",
       "               door      said       eye     dream     night       day  \\\n",
       "subreddit                                                               \n",
       "0          0.018714  0.016654  0.012460  0.032663  0.025593  0.018851   \n",
       "1          0.036008  0.033051  0.035416  0.012135  0.019824  0.025969   \n",
       "\n",
       "             looked      year       saw       got    people     think  \\\n",
       "subreddit                                                               \n",
       "0          0.014317  0.023370  0.019884  0.016595  0.018710  0.018253   \n",
       "1          0.028208  0.017876  0.021090  0.024517  0.022061  0.020665   \n",
       "\n",
       "               went      felt       way       man      told        ha  \\\n",
       "subreddit                                                               \n",
       "0          0.017358  0.015464  0.012820  0.009987  0.016296  0.019490   \n",
       "1          0.020591  0.021842  0.024779  0.027472  0.019148  0.015407   \n",
       "\n",
       "             friend  \n",
       "subreddit            \n",
       "0          0.020523  \n",
       "1          0.013996  "
      ]
     },
     "execution_count": 69,
     "metadata": {},
     "output_type": "execute_result"
    }
   ],
   "source": [
    "df_subreddit_tvec.head()"
   ]
  },
  {
   "cell_type": "code",
   "execution_count": 70,
   "metadata": {},
   "outputs": [
    {
     "data": {
      "image/png": "[encoded data removed]",
      "text/plain": [
       "<Figure size 720x576 with 1 Axes>"
      ]
     },
     "metadata": {
      "needs_background": "light"
     },
     "output_type": "display_data"
    }
   ],
   "source": [
    "## Plot bar graph to view the top score words appeared in Corpus\n",
    "horiz_bar (df_subreddit_tvec.transpose(), 'tfidf score', 'word', 'Top tfidf score word')\n",
    "\n",
    "plt.legend(['Thetruishere', 'Nosleep'], fontsize = 14);\n"
   ]
  },
  {
   "cell_type": "markdown",
   "metadata": {},
   "source": [
    "TfidfVectorizer extract the words by tfidf score, which those words with high score is the word is able to discrimating between documents. It penalized common words.\n",
    "Unlike the results from CountVectorizer, where those top frequency words are almost all from one subreddit (Nosleep), whereas the top tfidf score is a mixture of subreddit, which means\n",
    "for the same word, another subreddit (Thetruishere) has higher score compared to 'Nosleep' subreddit.\n"
   ]
  }
 ],
 "metadata": {
  "kernelspec": {
   "display_name": "Python 3",
   "language": "python",
   "name": "python3"
  },
  "language_info": {
   "codemirror_mode": {
    "name": "ipython",
    "version": 3
   },
   "file_extension": ".py",
   "mimetype": "text/x-python",
   "name": "python",
   "nbconvert_exporter": "python",
   "pygments_lexer": "ipython3",
   "version": "3.7.4"
  }
 },
 "nbformat": 4,
 "nbformat_minor": 2
}
