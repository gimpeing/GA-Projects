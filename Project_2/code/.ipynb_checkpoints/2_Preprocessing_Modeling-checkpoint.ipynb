{
 "cells": [
  {
   "cell_type": "markdown",
   "metadata": {},
   "source": [
    "# Project 2: Ames Housing Data and Kaggle Challenge"
   ]
  },
  {
   "cell_type": "markdown",
   "metadata": {},
   "source": [
    "## Importing libaries"
   ]
  },
  {
   "cell_type": "code",
   "execution_count": 1,
   "metadata": {},
   "outputs": [
    {
     "name": "stderr",
     "output_type": "stream",
     "text": [
      "/opt/anaconda3/lib/python3.7/site-packages/statsmodels/tools/_testing.py:19: FutureWarning: pandas.util.testing is deprecated. Use the functions in the public API at pandas.testing instead.\n",
      "  import pandas.util.testing as tm\n"
     ]
    }
   ],
   "source": [
    "#Imports:\n",
    "import pandas as pd\n",
    "import numpy as np\n",
    "import seaborn as sns\n",
    "import matplotlib.pyplot as plt\n",
    "\n",
    "from sklearn.linear_model import LinearRegression, LassoCV, RidgeCV, Lasso, Ridge\n",
    "from sklearn.preprocessing import PolynomialFeatures, StandardScaler\n",
    "from sklearn.model_selection import train_test_split, cross_val_score, cross_val_predict\n",
    "from sklearn.metrics import r2_score\n",
    "from sklearn.preprocessing import LabelEncoder\n",
    "\n",
    "#To visualize the whole grid\n",
    "pd.options.display.max_columns = 999\n",
    "\n",
    "%matplotlib inline\n",
    "plt.style.use('fivethirtyeight')"
   ]
  },
  {
   "cell_type": "markdown",
   "metadata": {},
   "source": [
    "## Load the data"
   ]
  },
  {
   "cell_type": "code",
   "execution_count": 2,
   "metadata": {},
   "outputs": [],
   "source": [
    "#Importing datasets done in EDA & Cleaning\n",
    "df = pd.read_csv('../datasets/df_combined_cleaned.csv')"
   ]
  },
  {
   "cell_type": "markdown",
   "metadata": {},
   "source": [
    "## 4. Preprocessing"
   ]
  },
  {
   "cell_type": "markdown",
   "metadata": {},
   "source": [
    "### 4.1 One-hot encode categorical variables\n",
    "For categorical feature"
   ]
  },
  {
   "cell_type": "code",
   "execution_count": 3,
   "metadata": {},
   "outputs": [
    {
     "data": {
      "text/plain": [
       "Index(['MS Zoning', 'Street', 'Alley', 'Lot Shape', 'Land Contour',\n",
       "       'Lot Config', 'Land Slope', 'Neighborhood', 'Condition 1',\n",
       "       'Condition 2', 'Bldg Type', 'House Style', 'Roof Style', 'Roof Matl',\n",
       "       'Exterior 1st', 'Exterior 2nd', 'Mas Vnr Type', 'Foundation',\n",
       "       'Bsmt Exposure', 'BsmtFin Type 1', 'BsmtFin Type 2', 'Heating',\n",
       "       'Central Air', 'Electrical', 'Garage Type', 'Garage Finish',\n",
       "       'Paved Drive', 'Pool QC', 'Fence', 'Misc Feature', 'Sale Type',\n",
       "       'data_origin'],\n",
       "      dtype='object')"
      ]
     },
     "execution_count": 3,
     "metadata": {},
     "output_type": "execute_result"
    }
   ],
   "source": [
    "# List out the columns with 'object' datatype\n",
    "df.select_dtypes(include = [object]).columns"
   ]
  },
  {
   "cell_type": "code",
   "execution_count": 4,
   "metadata": {},
   "outputs": [],
   "source": [
    "#Instatiate \n",
    "le = LabelEncoder()\n",
    "\n",
    "#New feature (categorical) for output\n",
    "new_catfea = ['MS Zoning', 'Neighborhood', 'Sale Type']\n",
    "\n",
    "for item in new_catfea:\n",
    "    df[item] = le.fit_transform(df[item])     "
   ]
  },
  {
   "cell_type": "code",
   "execution_count": 5,
   "metadata": {},
   "outputs": [
    {
     "data": {
      "text/plain": [
       "Id              int64\n",
       "PID             int64\n",
       "MS SubClass     int64\n",
       "Lot Area        int64\n",
       "Street         object\n",
       "                ...  \n",
       "Sale Type_5     uint8\n",
       "Sale Type_6     uint8\n",
       "Sale Type_7     uint8\n",
       "Sale Type_8     uint8\n",
       "Sale Type_9     uint8\n",
       "Length: 114, dtype: object"
      ]
     },
     "execution_count": 5,
     "metadata": {},
     "output_type": "execute_result"
    }
   ],
   "source": [
    "#Get dummies:\n",
    "df = pd.get_dummies(df, columns = new_catfea)\n",
    "\n",
    "df.dtypes"
   ]
  },
  {
   "cell_type": "markdown",
   "metadata": {},
   "source": [
    "### 4.2 Export split cleand file"
   ]
  },
  {
   "cell_type": "code",
   "execution_count": 6,
   "metadata": {},
   "outputs": [],
   "source": [
    "# Split the combined df into train & test again:\n",
    "train = df.loc[df['data_origin'] == 'train']\n",
    "test = df.loc[df['data_origin'] == 'test']"
   ]
  },
  {
   "cell_type": "code",
   "execution_count": 7,
   "metadata": {},
   "outputs": [
    {
     "name": "stderr",
     "output_type": "stream",
     "text": [
      "/opt/anaconda3/lib/python3.7/site-packages/pandas/core/frame.py:3997: SettingWithCopyWarning: \n",
      "A value is trying to be set on a copy of a slice from a DataFrame\n",
      "\n",
      "See the caveats in the documentation: https://pandas.pydata.org/pandas-docs/stable/user_guide/indexing.html#returning-a-view-versus-a-copy\n",
      "  errors=errors,\n"
     ]
    }
   ],
   "source": [
    "## Drop the 'data_origin' column plus addtional 'SalePrice' for test dataset\n",
    "train.drop(['data_origin'], axis = 1, inplace = True)\n",
    "test.drop(['data_origin', 'SalePrice'], axis = 1, inplace = True)"
   ]
  },
  {
   "cell_type": "code",
   "execution_count": 8,
   "metadata": {},
   "outputs": [],
   "source": [
    "## Export cleaned split file\n",
    "train.to_csv('../datasets/train_cleaned.csv', index = False)\n",
    "test.to_csv('../datasets/test_cleaned.csv', index = False)  "
   ]
  },
  {
   "cell_type": "markdown",
   "metadata": {},
   "source": [
    "### 4.3 Import splitte file"
   ]
  },
  {
   "cell_type": "code",
   "execution_count": 9,
   "metadata": {},
   "outputs": [],
   "source": [
    "df_train = pd.read_csv('../datasets/train_cleaned.csv')\n",
    "df_test = pd.read_csv('../datasets/test_cleaned.csv')"
   ]
  },
  {
   "cell_type": "markdown",
   "metadata": {},
   "source": [
    "### 4.2 Model Preparation\n",
    "Create feature matrix (`X`) and target value (`y`)\n",
    "\n",
    "Every **numerical** column (that is not the target) will be used as a feature.\n",
    "The `SalePrice` column is the target\n"
   ]
  },
  {
   "cell_type": "code",
   "execution_count": 10,
   "metadata": {},
   "outputs": [],
   "source": [
    "features = [col for col in df_train._get_numeric_data().columns if col != 'SalePrice']\n",
    "\n",
    "X = df_train[features]\n",
    "y = df_train['SalePrice']"
   ]
  },
  {
   "cell_type": "markdown",
   "metadata": {},
   "source": [
    "create feature matrix for un-train data as matrix (`X_testuntrain`) from X_test dataset as well"
   ]
  },
  {
   "cell_type": "code",
   "execution_count": 11,
   "metadata": {},
   "outputs": [],
   "source": [
    "X_testuntrain = df_test[features]"
   ]
  },
  {
   "cell_type": "markdown",
   "metadata": {},
   "source": [
    "### 4.3 Train Test Split data"
   ]
  },
  {
   "cell_type": "code",
   "execution_count": 12,
   "metadata": {},
   "outputs": [],
   "source": [
    "X_train, X_test, y_train, y_test = train_test_split(X, y, random_state = 42)"
   ]
  },
  {
   "cell_type": "markdown",
   "metadata": {},
   "source": [
    "### 4.4 Model Scaling\n",
    "Since will use `Lasso` and `Ridge` in modeling, will need to scale the features. "
   ]
  },
  {
   "cell_type": "code",
   "execution_count": 13,
   "metadata": {},
   "outputs": [],
   "source": [
    "ss = StandardScaler()\n",
    "ss.fit(X_train)               #fit with X_train data, then use it to transform both X_train & X_test data\n",
    "\n",
    "X_train_sc = ss.transform(X_train)\n",
    "X_test_sc = ss.transform(X_test)\n",
    "\n",
    "X_testuntrain_sc = ss.transform(X_testuntrain)   # use the same fit with X_train data on the un-train dataset"
   ]
  },
  {
   "cell_type": "markdown",
   "metadata": {},
   "source": [
    "## 5. Modeling\n",
    "\n",
    "To evaluate `LinearRegression`, `LassoCV` and `RidgeCV`, so we'll need to create instances of all three models."
   ]
  },
  {
   "cell_type": "code",
   "execution_count": 14,
   "metadata": {},
   "outputs": [],
   "source": [
    "# Instantiate the 3 models:\n",
    "\n",
    "lr = LinearRegression()"
   ]
  },
  {
   "cell_type": "code",
   "execution_count": 15,
   "metadata": {},
   "outputs": [],
   "source": [
    "lasso = LassoCV(n_alphas = 500, verbose = 1)"
   ]
  },
  {
   "cell_type": "code",
   "execution_count": 16,
   "metadata": {},
   "outputs": [],
   "source": [
    "ridge = RidgeCV(alphas = np.logspace(0, 5, 200))"
   ]
  },
  {
   "cell_type": "markdown",
   "metadata": {},
   "source": [
    "### 5.1 Cross Validation\n",
    "Use `cross_val_score` to evaluate all three models and select the one give the highest R2 score"
   ]
  },
  {
   "cell_type": "markdown",
   "metadata": {},
   "source": [
    "#### 5.1.1 LinearRegression\n",
    "- The mean R^2 is extremely negative. All the R^2 scores are negative in crossvalidation.\n",
    "- It is probably dramatically overfitting and the redundant features are affecting the coefficients"
   ]
  },
  {
   "cell_type": "code",
   "execution_count": 17,
   "metadata": {},
   "outputs": [
    {
     "name": "stdout",
     "output_type": "stream",
     "text": [
      " The R2 score for LinearRegression is -3.650136819277969e+17\n"
     ]
    }
   ],
   "source": [
    "lr_scores = cross_val_score(lr, X_train_sc, y_train, cv = 10)\n",
    "print(f' The R2 score for LinearRegression is {round(lr_scores.mean(), 4)}')"
   ]
  },
  {
   "cell_type": "markdown",
   "metadata": {},
   "source": [
    "#### 5.1.2 Lasso \n",
    "\n",
    "- The R2 is much better than Linear Regression.\n",
    "- This is expected as Lasso is able to help in feature selection, eliminating those in-significant feature (by zero-out the coefficient = 0). It is also able to manage multicollinearity\n"
   ]
  },
  {
   "cell_type": "code",
   "execution_count": 18,
   "metadata": {},
   "outputs": [
    {
     "name": "stderr",
     "output_type": "stream",
     "text": [
      "/opt/anaconda3/lib/python3.7/site-packages/sklearn/model_selection/_split.py:1978: FutureWarning: The default value of cv will change from 3 to 5 in version 0.22. Specify it explicitly to silence this warning.\n",
      "  warnings.warn(CV_WARNING, FutureWarning)\n",
      "[Parallel(n_jobs=1)]: Using backend SequentialBackend with 1 concurrent workers.\n",
      "............................................................................................................................................................................................................................................................................................................................................................................................................................................................................................................................................................................................................................................................................................................................................................................................................................................................................................................................................................................................................................................................................................................................................................................................................................................................................................................................................................................................................................................................................................................................................................[Parallel(n_jobs=1)]: Done   3 out of   3 | elapsed:    0.5s finished\n",
      "/opt/anaconda3/lib/python3.7/site-packages/sklearn/model_selection/_split.py:1978: FutureWarning: The default value of cv will change from 3 to 5 in version 0.22. Specify it explicitly to silence this warning.\n",
      "  warnings.warn(CV_WARNING, FutureWarning)\n",
      "[Parallel(n_jobs=1)]: Using backend SequentialBackend with 1 concurrent workers.\n",
      "............................................................................................................................................................................................................................................................................................................................................................................................................................................................................................................................................................................................................................................................................................................................................................................................................................................................................................................................................................................................................................................................................................................................................................................................................................................................................................................................................................................................................................................................................................................................................................[Parallel(n_jobs=1)]: Done   3 out of   3 | elapsed:    0.5s finished\n",
      "/opt/anaconda3/lib/python3.7/site-packages/sklearn/model_selection/_split.py:1978: FutureWarning: The default value of cv will change from 3 to 5 in version 0.22. Specify it explicitly to silence this warning.\n",
      "  warnings.warn(CV_WARNING, FutureWarning)\n",
      "[Parallel(n_jobs=1)]: Using backend SequentialBackend with 1 concurrent workers.\n",
      "............................................................................................................................................................................................................................................................................................................................................................................................................................................................................................................................................................................................................................................................................................................................................................................................................................................................................................................................................................................................................................................................................................................................................................................................................................................................................................................................................................................................................................................................................................................................................................[Parallel(n_jobs=1)]: Done   3 out of   3 | elapsed:    0.5s finished\n",
      "/opt/anaconda3/lib/python3.7/site-packages/sklearn/model_selection/_split.py:1978: FutureWarning: The default value of cv will change from 3 to 5 in version 0.22. Specify it explicitly to silence this warning.\n",
      "  warnings.warn(CV_WARNING, FutureWarning)\n",
      "[Parallel(n_jobs=1)]: Using backend SequentialBackend with 1 concurrent workers.\n",
      "............................................................................................................................................................................................................................................................................................................................................................................................................................................................................................................................................................................................................................................................................................................................................................................................................................................................................................................................................................................................................................................................................................................................................................................................................................................................................................................................................................................................................................................................................................................................................................[Parallel(n_jobs=1)]: Done   3 out of   3 | elapsed:    0.5s finished\n",
      "/opt/anaconda3/lib/python3.7/site-packages/sklearn/model_selection/_split.py:1978: FutureWarning: The default value of cv will change from 3 to 5 in version 0.22. Specify it explicitly to silence this warning.\n",
      "  warnings.warn(CV_WARNING, FutureWarning)\n",
      "[Parallel(n_jobs=1)]: Using backend SequentialBackend with 1 concurrent workers.\n"
     ]
    },
    {
     "name": "stderr",
     "output_type": "stream",
     "text": [
      "............................................................................................................................................................................................................................................................................................................................................................................................................................................................................................................................................................................................................................................................................................................................................................................................................................................................................................................................................................................................................................................................................................................................................................................................................................................................................................................................................................................................................................................................................................................................................................[Parallel(n_jobs=1)]: Done   3 out of   3 | elapsed:    0.5s finished\n",
      "/opt/anaconda3/lib/python3.7/site-packages/sklearn/model_selection/_split.py:1978: FutureWarning: The default value of cv will change from 3 to 5 in version 0.22. Specify it explicitly to silence this warning.\n",
      "  warnings.warn(CV_WARNING, FutureWarning)\n",
      "[Parallel(n_jobs=1)]: Using backend SequentialBackend with 1 concurrent workers.\n",
      "............................................................................................................................................................................................................................................................................................................................................................................................................................................................................................................................................................................................................................................................................................................................................................................................................................................................................................................................................................................................................................................................................................................................................................................................................................................................................................................................................................................................................................................................................................................................................................[Parallel(n_jobs=1)]: Done   3 out of   3 | elapsed:    0.5s finished\n",
      "/opt/anaconda3/lib/python3.7/site-packages/sklearn/model_selection/_split.py:1978: FutureWarning: The default value of cv will change from 3 to 5 in version 0.22. Specify it explicitly to silence this warning.\n",
      "  warnings.warn(CV_WARNING, FutureWarning)\n",
      "[Parallel(n_jobs=1)]: Using backend SequentialBackend with 1 concurrent workers.\n",
      "............................................................................................................................................................................................................................................................................................................................................................................................................................................................................................................................................................................................................................................................................................................................................................................................................................................................................................................................................................................................................................................................................................................................................................................................................................................................................................................................................................................................................................................................................................................................................................[Parallel(n_jobs=1)]: Done   3 out of   3 | elapsed:    0.5s finished\n",
      "/opt/anaconda3/lib/python3.7/site-packages/sklearn/model_selection/_split.py:1978: FutureWarning: The default value of cv will change from 3 to 5 in version 0.22. Specify it explicitly to silence this warning.\n",
      "  warnings.warn(CV_WARNING, FutureWarning)\n",
      "[Parallel(n_jobs=1)]: Using backend SequentialBackend with 1 concurrent workers.\n",
      "............................................................................................................................................................................................................................................................................................................................................................................................................................................................................................................................................................................................................................................................................................................................................................................................................................................................................................................................................................................................................................................................................................................................................................................................................................................................................................................................................................................................................................................................................................................................................................[Parallel(n_jobs=1)]: Done   3 out of   3 | elapsed:    0.5s finished\n",
      "/opt/anaconda3/lib/python3.7/site-packages/sklearn/model_selection/_split.py:1978: FutureWarning: The default value of cv will change from 3 to 5 in version 0.22. Specify it explicitly to silence this warning.\n",
      "  warnings.warn(CV_WARNING, FutureWarning)\n",
      "[Parallel(n_jobs=1)]: Using backend SequentialBackend with 1 concurrent workers.\n"
     ]
    },
    {
     "name": "stderr",
     "output_type": "stream",
     "text": [
      "............................................................................................................................................................................................................................................................................................................................................................................................................................................................................................................................................................................................................................................................................................................................................................................................................................................................................................................................................................................................................................................................................................................................................................................................................................................................................................................................................................................................................................................................................................................................................................[Parallel(n_jobs=1)]: Done   3 out of   3 | elapsed:    0.4s finished\n",
      "/opt/anaconda3/lib/python3.7/site-packages/sklearn/model_selection/_split.py:1978: FutureWarning: The default value of cv will change from 3 to 5 in version 0.22. Specify it explicitly to silence this warning.\n",
      "  warnings.warn(CV_WARNING, FutureWarning)\n",
      "[Parallel(n_jobs=1)]: Using backend SequentialBackend with 1 concurrent workers.\n",
      "............................................................................................................................................................................................................................................................................................................................................................................................................................................................................................................................................................................................................................................................................................................................................................................................................................................................................................................................................................................................................................................................................................................................................................................................................................................................................................................................................................................................................................................................................................................................................................"
     ]
    },
    {
     "name": "stdout",
     "output_type": "stream",
     "text": [
      " Lasso R2 score is 0.8755\n"
     ]
    },
    {
     "name": "stderr",
     "output_type": "stream",
     "text": [
      "[Parallel(n_jobs=1)]: Done   3 out of   3 | elapsed:    0.5s finished\n"
     ]
    }
   ],
   "source": [
    "lasso_scores = cross_val_score(lasso, X_train_sc, y_train, cv =10)\n",
    "print(f' Lasso R2 score is {round( lasso_scores.mean() ,4)}')"
   ]
  },
  {
   "cell_type": "markdown",
   "metadata": {},
   "source": [
    "#### 5.1.3 Ridge\n",
    "\n",
    "- The R2 is much better than Linear Regression.\n",
    "- Again, it is likely there are too many features and it is able to manage the multicollinearity.\n",
    "- Ridge and Lasso are getting fairly the same score, with Lasso (0.8917)is slightly higher than Ridge (0.8907)."
   ]
  },
  {
   "cell_type": "code",
   "execution_count": 19,
   "metadata": {},
   "outputs": [
    {
     "name": "stdout",
     "output_type": "stream",
     "text": [
      " Ridge R2 score is 0.8735\n"
     ]
    }
   ],
   "source": [
    "ridge_scores = cross_val_score(ridge, X_train_sc, y_train, cv =10)\n",
    "print(f' Ridge R2 score is {round( ridge_scores.mean() ,4)}')"
   ]
  },
  {
   "cell_type": "markdown",
   "metadata": {},
   "source": [
    "### 5.2 Model Fitting and Evaluation\n",
    "\n",
    "`LassoCV` is the best (R2 score of 0.8955), thus using it to fit and model the training dataset."
   ]
  },
  {
   "cell_type": "code",
   "execution_count": 20,
   "metadata": {},
   "outputs": [
    {
     "name": "stderr",
     "output_type": "stream",
     "text": [
      "[Parallel(n_jobs=1)]: Using backend SequentialBackend with 1 concurrent workers.\n",
      ".................................................................................................................................................................................................................................................................................................................................................................................................................................................................................................................................................................................................................................................................................................................................................................................................................................................................................................................................................................................................................................................................................................................................................................................................................................................................................................................................................................................................................................................................................................................................................................................................................................................................................................................................................................................................................................................................................................................................................................................................................................................................................................................................................................................................................................................................................................................................................................................................................................................................................................................................................................................................................................................................................................................................................................................................................................................................................................................................................................................................................................................................................................................................................................................................................................................................................................................................................................................................................................................................................................................................................................................................................................................................................................................................................................................................................................................................................................................................................................................................................................................................................................................................................................................................................................................................................................................................................................................................................................................................................................................................................................................................................................................................................................................................................................................................................................................................................................................................................................................................................................................................."
     ]
    },
    {
     "name": "stdout",
     "output_type": "stream",
     "text": [
      " Optimal lasso alpha : 0.0003346412414301911\n"
     ]
    },
    {
     "name": "stderr",
     "output_type": "stream",
     "text": [
      "......................................................................................................................................[Parallel(n_jobs=1)]: Done  10 out of  10 | elapsed:    1.5s finished\n"
     ]
    }
   ],
   "source": [
    "#Find an optimal value for Lasso regression alpha using LassoCV\n",
    "optimal_lasso = LassoCV(n_alphas=500, cv=10, verbose=1)\n",
    "optimal_lasso.fit(X_train_sc, y_train)\n",
    "\n",
    "print (f' Optimal lasso alpha : {optimal_lasso.alpha_}')"
   ]
  },
  {
   "cell_type": "code",
   "execution_count": 21,
   "metadata": {},
   "outputs": [
    {
     "name": "stdout",
     "output_type": "stream",
     "text": [
      " Lasso R2 score: [0.92021088 0.92059139 0.88967233 0.9279558  0.84831892 0.93963536\n",
      " 0.84544972 0.87701416 0.72490367 0.87767048]\n",
      " Lasso R2 score (mean): 0.8771\n"
     ]
    }
   ],
   "source": [
    "## Cross validation the optimal lasso alpha with R2\n",
    "\n",
    "lasso = Lasso(alpha=optimal_lasso.alpha_)\n",
    "\n",
    "lasso_scores = cross_val_score(lasso, X_train_sc, y_train, cv=10)\n",
    "\n",
    "print (f' Lasso R2 score: {lasso_scores}')\n",
    "print (f' Lasso R2 score (mean): {round(np.mean(lasso_scores), 4)}')"
   ]
  },
  {
   "cell_type": "code",
   "execution_count": 22,
   "metadata": {},
   "outputs": [
    {
     "data": {
      "text/plain": [
       "Lasso(alpha=0.0003346412414301911, copy_X=True, fit_intercept=True,\n",
       "      max_iter=1000, normalize=False, positive=False, precompute=False,\n",
       "      random_state=None, selection='cyclic', tol=0.0001, warm_start=False)"
      ]
     },
     "execution_count": 22,
     "metadata": {},
     "output_type": "execute_result"
    }
   ],
   "source": [
    "### Use the optimal alpha to fit into Lasso model\n",
    "lasso.fit(X_train_sc, y_train)"
   ]
  },
  {
   "cell_type": "code",
   "execution_count": 23,
   "metadata": {},
   "outputs": [
    {
     "name": "stdout",
     "output_type": "stream",
     "text": [
      " Lasso R2 from trainning data: 0.9158\n"
     ]
    }
   ],
   "source": [
    "print(f' Lasso R2 from trainning data: { round(lasso.score(X_train_sc, y_train), 4)}')"
   ]
  },
  {
   "cell_type": "code",
   "execution_count": 24,
   "metadata": {},
   "outputs": [
    {
     "name": "stdout",
     "output_type": "stream",
     "text": [
      " Lasso R2 from test data: 0.8867\n"
     ]
    }
   ],
   "source": [
    "print(f' Lasso R2 from test data: { round(lasso.score(X_test_sc, y_test), 4)}')   \n",
    "\n",
    "# the test data is from the train_test_split, not the test data provided from Kaggle"
   ]
  },
  {
   "cell_type": "markdown",
   "metadata": {},
   "source": [
    "#### 5.2.1 Fitting the model\n",
    "- R2 in cross validation on test data is not differ too much from the R2 in train data. Thus, the model is able to generalize will with future data.\n",
    "- Use this model to get the predicted y (SalePrice)"
   ]
  },
  {
   "cell_type": "code",
   "execution_count": 25,
   "metadata": {},
   "outputs": [
    {
     "data": {
      "text/plain": [
       "(879,)"
      ]
     },
     "execution_count": 25,
     "metadata": {},
     "output_type": "execute_result"
    }
   ],
   "source": [
    "# predict the target (y_predict), that is the SalePrice for un-train df_test dataset. \n",
    "y_pred = lasso.predict(X_testuntrain_sc)\n",
    "y_pred.shape"
   ]
  },
  {
   "cell_type": "markdown",
   "metadata": {},
   "source": [
    "#### 5.2.2 Export the Lasso model y-predict to csv"
   ]
  },
  {
   "cell_type": "code",
   "execution_count": 26,
   "metadata": {},
   "outputs": [],
   "source": [
    "ID = df_test.Id  # this will be the 1st column data in output\n",
    "\n",
    "# Convert the y-predict SalePrice to linear scale (from log scale)\n",
    "y_pred_unlog = np.exp(y_pred)   # this will be the 2nd column data in output\n",
    "\n",
    "header = ['Id', 'SalePrice']  # column header\n",
    "\n",
    "data_tuples = list(zip(ID, y_pred_unlog))  # put the ID & corresponding y_pred as pairing\n",
    "\n",
    "df_submission_lasso = pd.DataFrame(data_tuples, columns = header)\n",
    "\n",
    "# Export to csv\n",
    "df_submission_lasso.to_csv('../output/submission_lasso.csv', index = False)"
   ]
  },
  {
   "cell_type": "markdown",
   "metadata": {},
   "source": [
    "#### 5.2.3 Getting coefficients"
   ]
  },
  {
   "cell_type": "code",
   "execution_count": 27,
   "metadata": {},
   "outputs": [
    {
     "name": "stdout",
     "output_type": "stream",
     "text": [
      "Percent features zeroed out: 11.9048%\n"
     ]
    }
   ],
   "source": [
    "# create dataframe to store the lasso coefficient\n",
    "lasso_coefs = pd.DataFrame({'features':X_train.columns,'lasso_coef':lasso.coef_})\n",
    "\n",
    "lasso_coefs.sort_values('lasso_coef', inplace=True, ascending=False)\n",
    "print(f'Percent features zeroed out: {round(np.sum((lasso.coef_ == 0))/float(X_train.shape[1])*100, 4)}%')"
   ]
  },
  {
   "cell_type": "code",
   "execution_count": 28,
   "metadata": {},
   "outputs": [
    {
     "name": "stdout",
     "output_type": "stream",
     "text": [
      " number of feature retain by Lasso = 74\n",
      " feature zeroed out by Lasso = 10\n"
     ]
    }
   ],
   "source": [
    "print(f' number of feature retain by Lasso = {np.sum(lasso.coef_ != 0)}') \n",
    "print(f' feature zeroed out by Lasso = {np.sum(lasso.coef_ == 0)}')"
   ]
  },
  {
   "cell_type": "code",
   "execution_count": 29,
   "metadata": {},
   "outputs": [
    {
     "data": {
      "text/html": [
       "<div>\n",
       "<style scoped>\n",
       "    .dataframe tbody tr th:only-of-type {\n",
       "        vertical-align: middle;\n",
       "    }\n",
       "\n",
       "    .dataframe tbody tr th {\n",
       "        vertical-align: top;\n",
       "    }\n",
       "\n",
       "    .dataframe thead th {\n",
       "        text-align: right;\n",
       "    }\n",
       "</style>\n",
       "<table border=\"1\" class=\"dataframe\">\n",
       "  <thead>\n",
       "    <tr style=\"text-align: right;\">\n",
       "      <th></th>\n",
       "      <th>features</th>\n",
       "      <th>lasso_coef</th>\n",
       "    </tr>\n",
       "  </thead>\n",
       "  <tbody>\n",
       "    <tr>\n",
       "      <th>14</th>\n",
       "      <td>Gr Liv Area</td>\n",
       "      <td>0.177156</td>\n",
       "    </tr>\n",
       "    <tr>\n",
       "      <th>9</th>\n",
       "      <td>BsmtFin SF 1</td>\n",
       "      <td>0.091049</td>\n",
       "    </tr>\n",
       "    <tr>\n",
       "      <th>5</th>\n",
       "      <td>Overall Qual</td>\n",
       "      <td>0.068061</td>\n",
       "    </tr>\n",
       "    <tr>\n",
       "      <th>7</th>\n",
       "      <td>Year Built</td>\n",
       "      <td>0.065119</td>\n",
       "    </tr>\n",
       "    <tr>\n",
       "      <th>11</th>\n",
       "      <td>Bsmt Unf SF</td>\n",
       "      <td>0.058325</td>\n",
       "    </tr>\n",
       "    <tr>\n",
       "      <th>...</th>\n",
       "      <td>...</td>\n",
       "      <td>...</td>\n",
       "    </tr>\n",
       "    <tr>\n",
       "      <th>28</th>\n",
       "      <td>Misc Val</td>\n",
       "      <td>-0.019397</td>\n",
       "    </tr>\n",
       "    <tr>\n",
       "      <th>2</th>\n",
       "      <td>MS SubClass</td>\n",
       "      <td>-0.023941</td>\n",
       "    </tr>\n",
       "    <tr>\n",
       "      <th>53</th>\n",
       "      <td>Neighborhood_7</td>\n",
       "      <td>-0.024370</td>\n",
       "    </tr>\n",
       "    <tr>\n",
       "      <th>39</th>\n",
       "      <td>MS Zoning_0</td>\n",
       "      <td>-0.026874</td>\n",
       "    </tr>\n",
       "    <tr>\n",
       "      <th>31</th>\n",
       "      <td>TotalSF</td>\n",
       "      <td>-0.090809</td>\n",
       "    </tr>\n",
       "  </tbody>\n",
       "</table>\n",
       "<p>84 rows × 2 columns</p>\n",
       "</div>"
      ],
      "text/plain": [
       "          features  lasso_coef\n",
       "14     Gr Liv Area    0.177156\n",
       "9     BsmtFin SF 1    0.091049\n",
       "5     Overall Qual    0.068061\n",
       "7       Year Built    0.065119\n",
       "11     Bsmt Unf SF    0.058325\n",
       "..             ...         ...\n",
       "28        Misc Val   -0.019397\n",
       "2      MS SubClass   -0.023941\n",
       "53  Neighborhood_7   -0.024370\n",
       "39     MS Zoning_0   -0.026874\n",
       "31         TotalSF   -0.090809\n",
       "\n",
       "[84 rows x 2 columns]"
      ]
     },
     "execution_count": 29,
     "metadata": {},
     "output_type": "execute_result"
    }
   ],
   "source": [
    "lasso_coefs"
   ]
  },
  {
   "cell_type": "code",
   "execution_count": 30,
   "metadata": {},
   "outputs": [],
   "source": [
    "# Extract the top 15 positive and top 10 negative coefficient to plot out\n",
    "imp_coef = pd.concat([lasso_coefs.head(15), lasso_coefs.tail(10) ])"
   ]
  },
  {
   "cell_type": "code",
   "execution_count": 34,
   "metadata": {},
   "outputs": [
    {
     "data": {
      "image/png": "[encoded data removed]",
      "text/plain": [
       "<Figure size 720x1008 with 1 Axes>"
      ]
     },
     "metadata": {},
     "output_type": "display_data"
    }
   ],
   "source": [
    "# Plot coefficients\n",
    "\n",
    "plt.rcParams['figure.figsize'] = (10, 14)\n",
    "imp_coef.plot(y = 'lasso_coef', x = 'features', kind = 'barh');\n",
    "plt.title('Coefficient from Lasso model', fontsize = 18);\n",
    "plt.xlim(-0.2, 0.2);"
   ]
  },
  {
   "cell_type": "markdown",
   "metadata": {},
   "source": [
    "The top 3 most significant positive features are Gr Liv Area, Overall Qual, Year built. These are actually the main driver to SalePrice."
   ]
  },
  {
   "cell_type": "markdown",
   "metadata": {},
   "source": [
    "#### Numeric features data dictionary\n",
    "\n",
    "|Feature|Type|Dataset|Description|\n",
    "|---|---|---|---|\n",
    "|**Gr Liv Area**|*int*|Continuous|Above grade (ground) living area square feet| \n",
    "|**Overall Qual**|*int*|Ordinal|Rates the overall material and finish of the house, where 1 to 10 = very poor to excelent| \n",
    "|**Year Built**|*int*|Discrete|Original construction date| \n",
    "|**Overall Cond**|*int*|Ordinal|Rates the overall condition of the house, where 1 to 10 = very poor to excelent| \n",
    "|**BsmtFin SF 1**|*float*|Continuous|basement Type 1 finished square feet| \n",
    "|**BsmtFin SF 2**|*float*|Continuous|basement Type 2 finished square feet| \n",
    "|**Garage Cars**|*float*|Discrete|Size of garage in car capacity| \n",
    "|**Functional**|*obj*|Ordinal|Home functionality (Assume typical unless deductions are warranted), from typical to salvage only|\n",
    "|**Liv_Bsmt_SF**|*float*|Continuous|Total area of living area and basement in square feet| \n",
    "|**Total_full_bath**|*int*|Continuous|Total number of full bathrooms in basement and above ground| \n",
    "|**Heating QC**|*float*|Ordinal|Heating quality and condition| \n",
    "|**Neighborhood_10**|*obj*|Norminal|Green Hills, Physical locations within Ames city limits| \n",
    "|**Neighborhood_6**|*obj*|Norminal|Crawfor, Physical locations within Ames city limits| \n",
    "|**Neighborhood_7**|*obj*|Norminal|Edwards, Physical locations within Ames city limits| \n",
    "|**Neighborhood_13**|*obj*|Norminal|Meadow Village, Physical locations within Ames city limits| \n",
    "|**Neighborhood_11**|*obj*|Norminal|Iowa DOT and Rail Road, Physical locations within Ames city limits| \n",
    "|**MS Zoning_0**|*obj*|Norminal|Agriculture, Identifies the general zoning classification| \n",
    "|**MS Zoning_1**|*obj*|Norminal|Commercial, Identifies the general zoning classification| \n",
    "|**MS Zoning_6**|*obj*|Norminal|Residential Medium Density, Identifies the general zoning classification|\n",
    "|**MS SubClass**|*obj*|Norminal|Identifies the type of dwelling involved in the sale| \n",
    "|**Misc Val**|*float*|Continuous|$Value of miscellaneous feature|\n",
    "|**Sale Type_0**|*obj*|Nominal|Court Officer Deed/Estate, Type of Sale| \n",
    "|**Pool Area**|*float*|Continuous|Pool area in square feet| \n"
   ]
  },
  {
   "cell_type": "markdown",
   "metadata": {},
   "source": [
    "#### 5.2.3 Residuals"
   ]
  },
  {
   "cell_type": "code",
   "execution_count": 32,
   "metadata": {},
   "outputs": [
    {
     "data": {
      "text/plain": [
       "Text(0, 0.5, 'Residuals')"
      ]
     },
     "execution_count": 32,
     "metadata": {},
     "output_type": "execute_result"
    },
    {
     "data": {
      "image/png": "[encoded data removed]",
      "text/plain": [
       "<Figure size 720x576 with 1 Axes>"
      ]
     },
     "metadata": {},
     "output_type": "display_data"
    }
   ],
   "source": [
    "# Residuals plot (calculated based on fitting into Lasso model with X_train data)\n",
    "sns.set(style=\"whitegrid\")\n",
    "\n",
    "pred_train = lasso.predict(X_train_sc)    # fit model with X_train data (after scalling)\n",
    "residuals = y_train - pred_train          # calculate residuals\n",
    "\n",
    "# Plot the residuals\n",
    "plt.figure(figsize = (10,8));\n",
    "sns.residplot(pred_train, y_train, lowess=True, color=\"g\");\n",
    "plt.title('Residuals using Lasso model')\n",
    "plt.xlabel('log(SalePrice_predict), USD')\n",
    "plt.ylabel('Residuals')"
   ]
  },
  {
   "cell_type": "markdown",
   "metadata": {},
   "source": [
    "#### Residuals\n",
    "The residuals of the Lasso model looks good as it randomly scatter around the zero horizontal line and the magnitude is relatively small as well."
   ]
  },
  {
   "cell_type": "markdown",
   "metadata": {},
   "source": [
    "## 6. Summary and Recommendation\n",
    "\n",
    "### 6.1 Summary\n",
    "#### Top 5 features with positive impact to housing SalePrice in Ames Iowa\n",
    "Housing's size (living area in square feet) top the list as the most significant value added feature to housing price. \n",
    "Overall material and finish and overall condition of the house come in as second and fourth.\n",
    "Timeline of the house is built is also value added to SalePrice with more recently built housing sold at higher price.\n",
    "Basement finish is also one of the key factor to add value to the SalePrice.\n",
    "Other factor that has positive impact to SalePrice including the garage size, total size of living area plus garage area, home functionality, total bathrooms, and heating quality condition.\n",
    "\n",
    "#### Features with negative impact to housing SalePrice\n",
    "Location of the housing, in terms of the general zoning of the housing has negative impact. Agriculture and commercial and the top two features with negative impact on housing Price. The type of housing (MS SubClass) is also has some negative impact to SalePrice.\n",
    "\n",
    "#### Neighborhoods with positive impact to housing SalePrice\n",
    "Green Hills and Crawford are the two neighborhoods that could be a good investment.\n",
    "\n",
    "### 6.2 Recommendation\n",
    "Size of housing is always the key to housing SalePrice, as normally buyer will evaluate the price per square feet of a house. Housing age is important factor as newer house (recently built house) has higher SalePrice. Based on the model, good maintenance of the housing can greatly improve its value as well. This means, the overall material and finish, the condition, functionality, heating quality of the house contribute to positive impact to SalePrice. Another key factor that influence the SalePrice is the basement and garage. Better basement condition, bigger size basement, garage with large car capacity increase the housing value.\n",
    "One factor that cannot be neglected is the general zoning of the housing has some impact on the SalePrice as well. Housing in Agriculture and Commercial estate tends to has lower value in their pricing.\n",
    "\n",
    "### 6.3 \n",
    "Though the model is able to predict well the sle price in Ames, Iowa, it cannot be generalized to other cities as some of the influencing factors are unique to Ames. However, \n",
    "\n",
    "How could you revise your model to make it more universal OR what date would you need from another city to make a comparable model?"
   ]
  },
  {
   "cell_type": "code",
   "execution_count": null,
   "metadata": {},
   "outputs": [],
   "source": []
  }
 ],
 "metadata": {
  "anaconda-cloud": {},
  "kernelspec": {
   "display_name": "Python 3",
   "language": "python",
   "name": "python3"
  },
  "language_info": {
   "codemirror_mode": {
    "name": "ipython",
    "version": 3
   },
   "file_extension": ".py",
   "mimetype": "text/x-python",
   "name": "python",
   "nbconvert_exporter": "python",
   "pygments_lexer": "ipython3",
   "version": "3.7.4"
  }
 },
 "nbformat": 4,
 "nbformat_minor": 2
}
