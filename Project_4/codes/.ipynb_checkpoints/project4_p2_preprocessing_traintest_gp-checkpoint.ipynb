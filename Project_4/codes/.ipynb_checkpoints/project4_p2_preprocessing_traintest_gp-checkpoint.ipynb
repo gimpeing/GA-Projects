{
 "cells": [
  {
   "cell_type": "markdown",
   "metadata": {},
   "source": [
    "# Project 4: Kaggle Competition: West Nile Virus Prediction\n",
    "### Notebook 2: Preprocessing (train, test datasets) and Baseline Modeling"
   ]
  },
  {
   "cell_type": "markdown",
   "metadata": {},
   "source": [
    "# 1. 0 Load and Importing Datasets"
   ]
  },
  {
   "cell_type": "markdown",
   "metadata": {},
   "source": [
    "### Import required libraries"
   ]
  },
  {
   "cell_type": "code",
   "execution_count": 1,
   "metadata": {},
   "outputs": [
    {
     "name": "stderr",
     "output_type": "stream",
     "text": [
      "/opt/anaconda3/lib/python3.7/site-packages/statsmodels/tools/_testing.py:19: FutureWarning: pandas.util.testing is deprecated. Use the functions in the public API at pandas.testing instead.\n",
      "  import pandas.util.testing as tm\n"
     ]
    }
   ],
   "source": [
    "import pandas as pd\n",
    "import requests\n",
    "\n",
    "import matplotlib.pyplot as plt\n",
    "import seaborn as sns\n",
    "import numpy as np\n",
    "\n",
    "from datetime import datetime\n",
    "\n",
    "from sklearn.model_selection import train_test_split, cross_val_score\n",
    "from sklearn.preprocessing import StandardScaler\n",
    "from sklearn.metrics import accuracy_score, precision_score, recall_score\n",
    "from sklearn.neighbors import KNeighborsClassifier\n",
    "from sklearn.metrics import confusion_matrix\n",
    "\n",
    "%matplotlib inline\n",
    "\n",
    "#To visualize the whole grid\n",
    "pd.options.display.max_columns = 999"
   ]
  },
  {
   "cell_type": "markdown",
   "metadata": {},
   "source": [
    "# 3.0 Data Pre-processing"
   ]
  },
  {
   "cell_type": "markdown",
   "metadata": {},
   "source": [
    "## 3.1 Train/ Test data\n",
    "- Load the cleaned train test datasets"
   ]
  },
  {
   "cell_type": "code",
   "execution_count": 2,
   "metadata": {},
   "outputs": [],
   "source": [
    "train = pd.read_csv('../csv_files/train_clean.csv')\n",
    "test = pd.read_csv('../csv_files/test_clean.csv')"
   ]
  },
  {
   "cell_type": "markdown",
   "metadata": {},
   "source": [
    "### Create dummies from the categorical predictors"
   ]
  },
  {
   "cell_type": "code",
   "execution_count": 3,
   "metadata": {},
   "outputs": [],
   "source": [
    "train = pd.get_dummies(train, columns = ['Species', 'Trap'], drop_first = True)\n",
    "test = pd.get_dummies(test, columns = ['Species', 'Trap'], drop_first = True)"
   ]
  },
  {
   "cell_type": "markdown",
   "metadata": {},
   "source": [
    "# 4.0 Baseline Modeling\n",
    "\n",
    "- **train** is highly imbalanced dataset, with majority of WNV negative infection (i.e. `WnvPresent` : 0) being 94.8%. Thus, we cannot use it as our Naive baseline accuracy.\n",
    "\n",
    "- Thus, we will make an intial predictive model with the train dataset, to establish baseline performance.\n",
    "- We will merge the spray and weather dataset to perform modeling and compare this baseline performance to evaluate our model.\n"
   ]
  },
  {
   "cell_type": "code",
   "execution_count": 4,
   "metadata": {},
   "outputs": [
    {
     "data": {
      "text/plain": [
       "0    0.947554\n",
       "1    0.052446\n",
       "Name: WnvPresent, dtype: float64"
      ]
     },
     "execution_count": 4,
     "metadata": {},
     "output_type": "execute_result"
    }
   ],
   "source": [
    "### Naive Baseline Accuracy\n",
    "train.WnvPresent.value_counts(normalize = True)"
   ]
  },
  {
   "cell_type": "markdown",
   "metadata": {},
   "source": [
    "### Train/Test Split (train dataset)"
   ]
  },
  {
   "cell_type": "code",
   "execution_count": 5,
   "metadata": {},
   "outputs": [],
   "source": [
    "### Prepare the X-features and y\n",
    "\n",
    "drop_col = ['WnvPresent', 'Date']\n",
    "X = train[[col for col in train.columns if col not in drop_col]]\n",
    "y = train['WnvPresent']"
   ]
  },
  {
   "cell_type": "code",
   "execution_count": 6,
   "metadata": {},
   "outputs": [],
   "source": [
    "### Train/Test Split\n",
    "\n",
    "X_train, X_test, y_train, y_test = train_test_split(X,y, test_size = 0.3, stratify = y, \n",
    "                                                    shuffle = True, random_state=42)"
   ]
  },
  {
   "cell_type": "code",
   "execution_count": 7,
   "metadata": {},
   "outputs": [],
   "source": [
    "### Scale the X_train, X_test\n",
    "\n",
    "ss = StandardScaler()\n",
    "\n",
    "X_train_sc = ss.fit_transform(X_train)\n",
    "X_test_sc = ss.transform(X_test)"
   ]
  },
  {
   "cell_type": "markdown",
   "metadata": {},
   "source": [
    "### Model: K-Nearest Neighbors (KNN)\n",
    "Classifier implementing the k-nearest neighbors vote."
   ]
  },
  {
   "cell_type": "code",
   "execution_count": 8,
   "metadata": {},
   "outputs": [
    {
     "name": "stderr",
     "output_type": "stream",
     "text": [
      "/opt/anaconda3/lib/python3.7/site-packages/sklearn/metrics/classification.py:1437: UndefinedMetricWarning: Precision is ill-defined and being set to 0.0 due to no predicted samples.\n",
      "  'precision', 'predicted', average, warn_for)\n",
      "/opt/anaconda3/lib/python3.7/site-packages/sklearn/metrics/classification.py:1437: UndefinedMetricWarning: Precision is ill-defined and being set to 0.0 due to no predicted samples.\n",
      "  'precision', 'predicted', average, warn_for)\n",
      "/opt/anaconda3/lib/python3.7/site-packages/sklearn/metrics/classification.py:1437: UndefinedMetricWarning: Precision is ill-defined and being set to 0.0 due to no predicted samples.\n",
      "  'precision', 'predicted', average, warn_for)\n",
      "/opt/anaconda3/lib/python3.7/site-packages/sklearn/metrics/classification.py:1437: UndefinedMetricWarning: Precision is ill-defined and being set to 0.0 due to no predicted samples.\n",
      "  'precision', 'predicted', average, warn_for)\n",
      "/opt/anaconda3/lib/python3.7/site-packages/sklearn/metrics/classification.py:1437: UndefinedMetricWarning: Precision is ill-defined and being set to 0.0 due to no predicted samples.\n",
      "  'precision', 'predicted', average, warn_for)\n",
      "/opt/anaconda3/lib/python3.7/site-packages/sklearn/metrics/classification.py:1437: UndefinedMetricWarning: Precision is ill-defined and being set to 0.0 due to no predicted samples.\n",
      "  'precision', 'predicted', average, warn_for)\n",
      "/opt/anaconda3/lib/python3.7/site-packages/sklearn/metrics/classification.py:1437: UndefinedMetricWarning: Precision is ill-defined and being set to 0.0 due to no predicted samples.\n",
      "  'precision', 'predicted', average, warn_for)\n",
      "/opt/anaconda3/lib/python3.7/site-packages/sklearn/metrics/classification.py:1437: UndefinedMetricWarning: Precision is ill-defined and being set to 0.0 due to no predicted samples.\n",
      "  'precision', 'predicted', average, warn_for)\n",
      "/opt/anaconda3/lib/python3.7/site-packages/sklearn/metrics/classification.py:1437: UndefinedMetricWarning: Precision is ill-defined and being set to 0.0 due to no predicted samples.\n",
      "  'precision', 'predicted', average, warn_for)\n"
     ]
    }
   ],
   "source": [
    "### Execute KNN 25 times with 25 n_neighbors\n",
    "### Append the metrics (recall, accuracy, precision)\n",
    "\n",
    "recall = []\n",
    "accuracy = []\n",
    "precision = []\n",
    "predict = []\n",
    "\n",
    "k = list(range(1,25))\n",
    "\n",
    "for i in k:\n",
    "    knn = KNeighborsClassifier(n_neighbors=i)\n",
    "    knn.fit(X_train_sc, y_train)\n",
    "    y_pred = knn.predict(X_test_sc)\n",
    "    \n",
    "    predict.append(y_pred)\n",
    "    recall.append(recall_score(y_test, y_pred))\n",
    "    accuracy.append(accuracy_score(y_test, y_pred))\n",
    "    precision.append(precision_score(y_test, y_pred))"
   ]
  },
  {
   "cell_type": "markdown",
   "metadata": {},
   "source": [
    "### Evaluate baseline model\n",
    "\n",
    "Metrics used to evaluate: recall, precision, as we have highly imbalanced dataset.\n",
    "\n",
    "The **recall** (sensitivity) is the ratio `tp / (tp + fn)`. The recall is intuitively the ability of the classifier to find all the positive samples, that is in this project, to predict WNV infected (WnvPresent = 1).\n",
    "\n",
    "The **precision** is the ratio `tp / (tp + fp)`. The precision is intuitively the ability of the classifier not to label as positive a sample that is negative."
   ]
  },
  {
   "cell_type": "code",
   "execution_count": 9,
   "metadata": {},
   "outputs": [
    {
     "data": {
      "image/png": "[encoded data removed]",
      "text/plain": [
       "<Figure size 1008x432 with 3 Axes>"
      ]
     },
     "metadata": {
      "needs_background": "light"
     },
     "output_type": "display_data"
    }
   ],
   "source": [
    "### Plot the various scoring metrics with all the 25 n_neighbors\n",
    "\n",
    "plt.subplots(figsize=(14,6))\n",
    "metrics = {'accuracy': accuracy, 'recall': recall, 'precision' : precision}\n",
    "\n",
    "for num, score in enumerate(metrics):\n",
    "    plt.subplot(1,3, num+1)\n",
    "    plt.plot(k, metrics[score])\n",
    "    plt.xlabel('K-neighbors', fontsize = 12)\n",
    "    plt.ylabel(score, fontsize = 12)\n"
   ]
  },
  {
   "cell_type": "code",
   "execution_count": 10,
   "metadata": {},
   "outputs": [
    {
     "name": "stdout",
     "output_type": "stream",
     "text": [
      "n_neighbors :12\n"
     ]
    }
   ],
   "source": [
    "### find the optimzed n_neighbors for precision\n",
    "print(f'n_neighbors :{precision.index(max(precision))+1}')"
   ]
  },
  {
   "cell_type": "code",
   "execution_count": 11,
   "metadata": {},
   "outputs": [
    {
     "data": {
      "text/html": [
       "<div>\n",
       "<style scoped>\n",
       "    .dataframe tbody tr th:only-of-type {\n",
       "        vertical-align: middle;\n",
       "    }\n",
       "\n",
       "    .dataframe tbody tr th {\n",
       "        vertical-align: top;\n",
       "    }\n",
       "\n",
       "    .dataframe thead th {\n",
       "        text-align: right;\n",
       "    }\n",
       "</style>\n",
       "<table border=\"1\" class=\"dataframe\">\n",
       "  <thead>\n",
       "    <tr style=\"text-align: right;\">\n",
       "      <th></th>\n",
       "      <th>Predict neg</th>\n",
       "      <th>Predict pos</th>\n",
       "    </tr>\n",
       "  </thead>\n",
       "  <tbody>\n",
       "    <tr>\n",
       "      <th>Actual neg</th>\n",
       "      <td>3147</td>\n",
       "      <td>0</td>\n",
       "    </tr>\n",
       "    <tr>\n",
       "      <th>Actual pos</th>\n",
       "      <td>5</td>\n",
       "      <td>0</td>\n",
       "    </tr>\n",
       "  </tbody>\n",
       "</table>\n",
       "</div>"
      ],
      "text/plain": [
       "            Predict neg  Predict pos\n",
       "Actual neg         3147            0\n",
       "Actual pos            5            0"
      ]
     },
     "execution_count": 11,
     "metadata": {},
     "output_type": "execute_result"
    }
   ],
   "source": [
    "### confusion matrix for k-neighbors = 12\n",
    "### fn = 5, means predict no infection, but in actual case it is WNV infection, which is not good.\n",
    "cm = confusion_matrix(predict[precision.index(max(precision))], y_pred)\n",
    "pd.DataFrame(cm, columns = ['Predict neg', 'Predict pos'], index = ['Actual neg', 'Actual pos'])"
   ]
  },
  {
   "cell_type": "markdown",
   "metadata": {},
   "source": [
    "**Accuracy** increasing with k-neighbors increasing, peak at n_neighbors =12, accuracy of 94.8%, which is similar to naive baseline accuracy. From the confusion matrix, the model seems to behave like the naive baseline, that is every time predict the majority group (i.e. no WNV infection). \n",
    "\n",
    "**recall** is bad, which is important for our case, where we would like to predict WNV infection (WnvPresent =1).\n",
    "\n",
    "**precision** is increasing with k-neighbors increasing, peak at n_neibhbors =12. It is important to maintain high precsion, as we do want to reduce fp, that is predict positive (WNV infection), but actual is negative (no WNV infection."
   ]
  },
  {
   "cell_type": "markdown",
   "metadata": {},
   "source": [
    "**Data dictionary**\n",
    "\n",
    "|Feature|Type|Description|\n",
    "|---|---|---|\n",
    "|**Date**|*str*|Date that the WNV test is performed| \n",
    "|**Address**|*str*|Approximate address of the location of trap. This is used to send to the GeoCoder| \n",
    "|**Species**|*str*|The species of mosquitos| \n",
    "|**Block**|*int*|Block number of address| \n",
    "|**Street**|*str*|Street name| \n",
    "|**Trap**|*str*|Id of the trap| \n",
    "|**AddressNumberAndStreet**|*str*|Approximate address returned from GeoCoder| \n",
    "|**Latitude**|*float*|Latitude returned from GeoCoder| \n",
    "|**Longitude**|*float*|Longitude returned from GeoCoder| \n",
    "|**AddressAccuracy**|*int*|Accuracy returned from GeoCoder| \n",
    "|**NumMosquitos**|*int*|Number of mosquitoes caught in this trap| \n",
    "|**WnvPresent**|*int*|Whether West Nile Virus was present in these mosquitos. 1 means WNV is present, and 0 means not present| "
   ]
  }
 ],
 "metadata": {
  "kernelspec": {
   "display_name": "Python 3",
   "language": "python",
   "name": "python3"
  },
  "language_info": {
   "codemirror_mode": {
    "name": "ipython",
    "version": 3
   },
   "file_extension": ".py",
   "mimetype": "text/x-python",
   "name": "python",
   "nbconvert_exporter": "python",
   "pygments_lexer": "ipython3",
   "version": "3.7.4"
  }
 },
 "nbformat": 4,
 "nbformat_minor": 2
}
